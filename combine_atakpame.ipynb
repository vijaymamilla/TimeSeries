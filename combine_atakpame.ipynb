{
 "cells": [
  {
   "cell_type": "code",
   "execution_count": 2,
   "id": "d95c2762-34e4-4875-a142-1b308c020e8c",
   "metadata": {},
   "outputs": [],
   "source": [
    "import pandas as pd\n",
    "import numpy as np"
   ]
  },
  {
   "cell_type": "code",
   "execution_count": 3,
   "id": "342e7580-e21e-4eec-bb0d-bd290637c53a",
   "metadata": {},
   "outputs": [],
   "source": [
    "df = pd.read_csv('weather_data.csv',index_col=[\"date_time\"])"
   ]
  },
  {
   "cell_type": "code",
   "execution_count": 4,
   "id": "2f419349-2562-40b1-a415-e56f33c1b2f7",
   "metadata": {},
   "outputs": [
    {
     "data": {
      "text/html": [
       "<div>\n",
       "<style scoped>\n",
       "    .dataframe tbody tr th:only-of-type {\n",
       "        vertical-align: middle;\n",
       "    }\n",
       "\n",
       "    .dataframe tbody tr th {\n",
       "        vertical-align: top;\n",
       "    }\n",
       "\n",
       "    .dataframe thead th {\n",
       "        text-align: right;\n",
       "    }\n",
       "</style>\n",
       "<table border=\"1\" class=\"dataframe\">\n",
       "  <thead>\n",
       "    <tr style=\"text-align: right;\">\n",
       "      <th></th>\n",
       "      <th>weathercode (wmo code)</th>\n",
       "      <th>temperature_2m_max (°C)</th>\n",
       "      <th>temperature_2m_min (°C)</th>\n",
       "      <th>temperature_2m_mean (°C)</th>\n",
       "      <th>apparent_temperature_max (°C)</th>\n",
       "      <th>apparent_temperature_min (°C)</th>\n",
       "      <th>apparent_temperature_mean (°C)</th>\n",
       "      <th>precipitation_sum (mm)</th>\n",
       "      <th>rain_sum (mm)</th>\n",
       "      <th>precipitation_hours (h)</th>\n",
       "      <th>windspeed_10m_max (km/h)</th>\n",
       "      <th>windgusts_10m_max (km/h)</th>\n",
       "      <th>winddirection_10m_dominant (°)</th>\n",
       "      <th>et0_fao_evapotranspiration (mm)</th>\n",
       "      <th>latitude</th>\n",
       "      <th>longitude</th>\n",
       "      <th>elevation</th>\n",
       "      <th>river_discharge</th>\n",
       "      <th>city</th>\n",
       "    </tr>\n",
       "    <tr>\n",
       "      <th>date_time</th>\n",
       "      <th></th>\n",
       "      <th></th>\n",
       "      <th></th>\n",
       "      <th></th>\n",
       "      <th></th>\n",
       "      <th></th>\n",
       "      <th></th>\n",
       "      <th></th>\n",
       "      <th></th>\n",
       "      <th></th>\n",
       "      <th></th>\n",
       "      <th></th>\n",
       "      <th></th>\n",
       "      <th></th>\n",
       "      <th></th>\n",
       "      <th></th>\n",
       "      <th></th>\n",
       "      <th></th>\n",
       "      <th></th>\n",
       "    </tr>\n",
       "  </thead>\n",
       "  <tbody>\n",
       "    <tr>\n",
       "      <th>2009-01-01</th>\n",
       "      <td>2.0</td>\n",
       "      <td>33.2</td>\n",
       "      <td>21.9</td>\n",
       "      <td>27.2</td>\n",
       "      <td>34.6</td>\n",
       "      <td>25.7</td>\n",
       "      <td>29.8</td>\n",
       "      <td>0.0</td>\n",
       "      <td>0.0</td>\n",
       "      <td>0.0</td>\n",
       "      <td>9.7</td>\n",
       "      <td>29.2</td>\n",
       "      <td>122.0</td>\n",
       "      <td>4.80</td>\n",
       "      <td>7.5</td>\n",
       "      <td>1.100006</td>\n",
       "      <td>326.0</td>\n",
       "      <td>0.0</td>\n",
       "      <td>Atakpame</td>\n",
       "    </tr>\n",
       "    <tr>\n",
       "      <th>2009-01-02</th>\n",
       "      <td>51.0</td>\n",
       "      <td>32.3</td>\n",
       "      <td>23.3</td>\n",
       "      <td>27.1</td>\n",
       "      <td>33.9</td>\n",
       "      <td>28.2</td>\n",
       "      <td>30.5</td>\n",
       "      <td>0.1</td>\n",
       "      <td>0.1</td>\n",
       "      <td>1.0</td>\n",
       "      <td>8.6</td>\n",
       "      <td>24.5</td>\n",
       "      <td>163.0</td>\n",
       "      <td>3.99</td>\n",
       "      <td>7.5</td>\n",
       "      <td>1.100006</td>\n",
       "      <td>326.0</td>\n",
       "      <td>0.0</td>\n",
       "      <td>Atakpame</td>\n",
       "    </tr>\n",
       "    <tr>\n",
       "      <th>2009-01-03</th>\n",
       "      <td>51.0</td>\n",
       "      <td>32.5</td>\n",
       "      <td>22.7</td>\n",
       "      <td>27.1</td>\n",
       "      <td>35.0</td>\n",
       "      <td>27.1</td>\n",
       "      <td>30.5</td>\n",
       "      <td>0.2</td>\n",
       "      <td>0.2</td>\n",
       "      <td>2.0</td>\n",
       "      <td>6.2</td>\n",
       "      <td>21.2</td>\n",
       "      <td>173.0</td>\n",
       "      <td>3.77</td>\n",
       "      <td>7.5</td>\n",
       "      <td>1.100006</td>\n",
       "      <td>326.0</td>\n",
       "      <td>0.0</td>\n",
       "      <td>Atakpame</td>\n",
       "    </tr>\n",
       "    <tr>\n",
       "      <th>2009-01-04</th>\n",
       "      <td>1.0</td>\n",
       "      <td>33.4</td>\n",
       "      <td>22.2</td>\n",
       "      <td>27.5</td>\n",
       "      <td>35.0</td>\n",
       "      <td>25.9</td>\n",
       "      <td>30.0</td>\n",
       "      <td>0.0</td>\n",
       "      <td>0.0</td>\n",
       "      <td>0.0</td>\n",
       "      <td>8.4</td>\n",
       "      <td>24.1</td>\n",
       "      <td>155.0</td>\n",
       "      <td>4.51</td>\n",
       "      <td>7.5</td>\n",
       "      <td>1.100006</td>\n",
       "      <td>326.0</td>\n",
       "      <td>0.0</td>\n",
       "      <td>Atakpame</td>\n",
       "    </tr>\n",
       "    <tr>\n",
       "      <th>2009-01-05</th>\n",
       "      <td>2.0</td>\n",
       "      <td>34.2</td>\n",
       "      <td>22.2</td>\n",
       "      <td>27.8</td>\n",
       "      <td>36.1</td>\n",
       "      <td>26.0</td>\n",
       "      <td>30.4</td>\n",
       "      <td>0.0</td>\n",
       "      <td>0.0</td>\n",
       "      <td>0.0</td>\n",
       "      <td>6.8</td>\n",
       "      <td>20.2</td>\n",
       "      <td>219.0</td>\n",
       "      <td>4.48</td>\n",
       "      <td>7.5</td>\n",
       "      <td>1.100006</td>\n",
       "      <td>326.0</td>\n",
       "      <td>0.0</td>\n",
       "      <td>Atakpame</td>\n",
       "    </tr>\n",
       "  </tbody>\n",
       "</table>\n",
       "</div>"
      ],
      "text/plain": [
       "            weathercode (wmo code)  temperature_2m_max (°C)  \\\n",
       "date_time                                                     \n",
       "2009-01-01                     2.0                     33.2   \n",
       "2009-01-02                    51.0                     32.3   \n",
       "2009-01-03                    51.0                     32.5   \n",
       "2009-01-04                     1.0                     33.4   \n",
       "2009-01-05                     2.0                     34.2   \n",
       "\n",
       "            temperature_2m_min (°C)  temperature_2m_mean (°C)  \\\n",
       "date_time                                                       \n",
       "2009-01-01                     21.9                      27.2   \n",
       "2009-01-02                     23.3                      27.1   \n",
       "2009-01-03                     22.7                      27.1   \n",
       "2009-01-04                     22.2                      27.5   \n",
       "2009-01-05                     22.2                      27.8   \n",
       "\n",
       "            apparent_temperature_max (°C)  apparent_temperature_min (°C)  \\\n",
       "date_time                                                                  \n",
       "2009-01-01                           34.6                           25.7   \n",
       "2009-01-02                           33.9                           28.2   \n",
       "2009-01-03                           35.0                           27.1   \n",
       "2009-01-04                           35.0                           25.9   \n",
       "2009-01-05                           36.1                           26.0   \n",
       "\n",
       "            apparent_temperature_mean (°C)  precipitation_sum (mm)  \\\n",
       "date_time                                                            \n",
       "2009-01-01                            29.8                     0.0   \n",
       "2009-01-02                            30.5                     0.1   \n",
       "2009-01-03                            30.5                     0.2   \n",
       "2009-01-04                            30.0                     0.0   \n",
       "2009-01-05                            30.4                     0.0   \n",
       "\n",
       "            rain_sum (mm)  precipitation_hours (h)  windspeed_10m_max (km/h)  \\\n",
       "date_time                                                                      \n",
       "2009-01-01            0.0                      0.0                       9.7   \n",
       "2009-01-02            0.1                      1.0                       8.6   \n",
       "2009-01-03            0.2                      2.0                       6.2   \n",
       "2009-01-04            0.0                      0.0                       8.4   \n",
       "2009-01-05            0.0                      0.0                       6.8   \n",
       "\n",
       "            windgusts_10m_max (km/h)  winddirection_10m_dominant (°)  \\\n",
       "date_time                                                              \n",
       "2009-01-01                      29.2                           122.0   \n",
       "2009-01-02                      24.5                           163.0   \n",
       "2009-01-03                      21.2                           173.0   \n",
       "2009-01-04                      24.1                           155.0   \n",
       "2009-01-05                      20.2                           219.0   \n",
       "\n",
       "            et0_fao_evapotranspiration (mm)  latitude  longitude  elevation  \\\n",
       "date_time                                                                     \n",
       "2009-01-01                             4.80       7.5   1.100006      326.0   \n",
       "2009-01-02                             3.99       7.5   1.100006      326.0   \n",
       "2009-01-03                             3.77       7.5   1.100006      326.0   \n",
       "2009-01-04                             4.51       7.5   1.100006      326.0   \n",
       "2009-01-05                             4.48       7.5   1.100006      326.0   \n",
       "\n",
       "            river_discharge      city  \n",
       "date_time                              \n",
       "2009-01-01              0.0  Atakpame  \n",
       "2009-01-02              0.0  Atakpame  \n",
       "2009-01-03              0.0  Atakpame  \n",
       "2009-01-04              0.0  Atakpame  \n",
       "2009-01-05              0.0  Atakpame  "
      ]
     },
     "execution_count": 4,
     "metadata": {},
     "output_type": "execute_result"
    }
   ],
   "source": [
    "df.head()"
   ]
  },
  {
   "cell_type": "code",
   "execution_count": 5,
   "id": "25ec181e",
   "metadata": {},
   "outputs": [],
   "source": [
    "df.index = pd.to_datetime(df.index)"
   ]
  },
  {
   "cell_type": "code",
   "execution_count": 6,
   "id": "9561df6f-ee78-4b0d-9c78-ba164bc269d4",
   "metadata": {},
   "outputs": [
    {
     "data": {
      "text/plain": [
       "DatetimeIndex(['2009-01-01', '2009-01-02', '2009-01-03', '2009-01-04',\n",
       "               '2009-01-05', '2009-01-06', '2009-01-07', '2009-01-08',\n",
       "               '2009-01-09', '2009-01-10',\n",
       "               ...\n",
       "               '2023-08-03', '2023-08-04', '2023-08-05', '2023-08-06',\n",
       "               '2023-08-07', '2023-08-08', '2023-08-09', '2023-08-10',\n",
       "               '2023-08-11', '2023-08-12'],\n",
       "              dtype='datetime64[ns]', name='date_time', length=58707, freq=None)"
      ]
     },
     "execution_count": 6,
     "metadata": {},
     "output_type": "execute_result"
    }
   ],
   "source": [
    "df.index"
   ]
  },
  {
   "cell_type": "code",
   "execution_count": 7,
   "id": "9ba306b5-d851-4683-ad49-4376c4cc027a",
   "metadata": {},
   "outputs": [
    {
     "data": {
      "text/plain": [
       "(Timestamp('2009-01-01 00:00:00'), Timestamp('2023-08-12 00:00:00'))"
      ]
     },
     "execution_count": 7,
     "metadata": {},
     "output_type": "execute_result"
    }
   ],
   "source": [
    "df.index.min(),df.index.max()"
   ]
  },
  {
   "cell_type": "code",
   "execution_count": 8,
   "id": "ec9b556e-1396-4680-a483-755396d1539b",
   "metadata": {},
   "outputs": [
    {
     "name": "stdout",
     "output_type": "stream",
     "text": [
      "<class 'pandas.core.frame.DataFrame'>\n",
      "DatetimeIndex: 58707 entries, 2009-01-01 to 2023-08-12\n",
      "Data columns (total 19 columns):\n",
      " #   Column                           Non-Null Count  Dtype  \n",
      "---  ------                           --------------  -----  \n",
      " 0   weathercode (wmo code)           58685 non-null  float64\n",
      " 1   temperature_2m_max (°C)          58685 non-null  float64\n",
      " 2   temperature_2m_min (°C)          58685 non-null  float64\n",
      " 3   temperature_2m_mean (°C)         58685 non-null  float64\n",
      " 4   apparent_temperature_max (°C)    58685 non-null  float64\n",
      " 5   apparent_temperature_min (°C)    58685 non-null  float64\n",
      " 6   apparent_temperature_mean (°C)   58685 non-null  float64\n",
      " 7   precipitation_sum (mm)           58685 non-null  float64\n",
      " 8   rain_sum (mm)                    58685 non-null  float64\n",
      " 9   precipitation_hours (h)          58707 non-null  float64\n",
      " 10  windspeed_10m_max (km/h)         58685 non-null  float64\n",
      " 11  windgusts_10m_max (km/h)         58685 non-null  float64\n",
      " 12  winddirection_10m_dominant (°)   58685 non-null  float64\n",
      " 13  et0_fao_evapotranspiration (mm)  58685 non-null  float64\n",
      " 14  latitude                         58707 non-null  float64\n",
      " 15  longitude                        58707 non-null  float64\n",
      " 16  elevation                        58707 non-null  float64\n",
      " 17  river_discharge                  58707 non-null  float64\n",
      " 18  city                             58707 non-null  object \n",
      "dtypes: float64(18), object(1)\n",
      "memory usage: 9.0+ MB\n"
     ]
    }
   ],
   "source": [
    "df.info()"
   ]
  },
  {
   "cell_type": "code",
   "execution_count": 9,
   "id": "e984bc3f-cbbe-44a1-a121-89fd6c864277",
   "metadata": {},
   "outputs": [
    {
     "data": {
      "text/plain": [
       "array(['Atakpame', 'Kara', 'Dapaong', 'Sokode', 'Bafilo', 'Kpalime',\n",
       "       'Bassar', 'Tsevie', 'Lome', 'Badou', 'Mango'], dtype=object)"
      ]
     },
     "execution_count": 9,
     "metadata": {},
     "output_type": "execute_result"
    }
   ],
   "source": [
    "df['city'].unique()"
   ]
  },
  {
   "cell_type": "code",
   "execution_count": 166,
   "id": "8841c717-f19b-44c1-bee2-5db8f0b4a716",
   "metadata": {},
   "outputs": [],
   "source": [
    "df_rain = pd.read_csv('twitter_rain.csv',index_col=[\"date_time\"])"
   ]
  },
  {
   "cell_type": "code",
   "execution_count": null,
   "id": "082dd79d-95de-47e3-8f47-61498ce9d8df",
   "metadata": {},
   "outputs": [],
   "source": []
  },
  {
   "cell_type": "code",
   "execution_count": 167,
   "id": "954b5d96-0a5e-411a-afd0-6f1b97b39bc5",
   "metadata": {},
   "outputs": [
    {
     "data": {
      "text/html": [
       "<div>\n",
       "<style scoped>\n",
       "    .dataframe tbody tr th:only-of-type {\n",
       "        vertical-align: middle;\n",
       "    }\n",
       "\n",
       "    .dataframe tbody tr th {\n",
       "        vertical-align: top;\n",
       "    }\n",
       "\n",
       "    .dataframe thead th {\n",
       "        text-align: right;\n",
       "    }\n",
       "</style>\n",
       "<table border=\"1\" class=\"dataframe\">\n",
       "  <thead>\n",
       "    <tr style=\"text-align: right;\">\n",
       "      <th></th>\n",
       "      <th>city</th>\n",
       "      <th>intensity_rain</th>\n",
       "    </tr>\n",
       "    <tr>\n",
       "      <th>date_time</th>\n",
       "      <th></th>\n",
       "      <th></th>\n",
       "    </tr>\n",
       "  </thead>\n",
       "  <tbody>\n",
       "    <tr>\n",
       "      <th>2009-01-01</th>\n",
       "      <td>Atakpame</td>\n",
       "      <td>0</td>\n",
       "    </tr>\n",
       "    <tr>\n",
       "      <th>2009-01-02</th>\n",
       "      <td>Atakpame</td>\n",
       "      <td>0</td>\n",
       "    </tr>\n",
       "    <tr>\n",
       "      <th>2009-01-03</th>\n",
       "      <td>Atakpame</td>\n",
       "      <td>0</td>\n",
       "    </tr>\n",
       "    <tr>\n",
       "      <th>2009-01-04</th>\n",
       "      <td>Atakpame</td>\n",
       "      <td>0</td>\n",
       "    </tr>\n",
       "    <tr>\n",
       "      <th>2009-01-05</th>\n",
       "      <td>Atakpame</td>\n",
       "      <td>0</td>\n",
       "    </tr>\n",
       "  </tbody>\n",
       "</table>\n",
       "</div>"
      ],
      "text/plain": [
       "                city  intensity_rain\n",
       "date_time                           \n",
       "2009-01-01  Atakpame               0\n",
       "2009-01-02  Atakpame               0\n",
       "2009-01-03  Atakpame               0\n",
       "2009-01-04  Atakpame               0\n",
       "2009-01-05  Atakpame               0"
      ]
     },
     "execution_count": 167,
     "metadata": {},
     "output_type": "execute_result"
    }
   ],
   "source": [
    "df_rain.head()"
   ]
  },
  {
   "cell_type": "code",
   "execution_count": 168,
   "id": "3d4d8ec7-f23f-497d-86e9-07b2699c93e7",
   "metadata": {},
   "outputs": [],
   "source": [
    "df_rain.index = pd.to_datetime(df_rain.index)"
   ]
  },
  {
   "cell_type": "code",
   "execution_count": 169,
   "id": "a7fdb6b9-291f-4ce9-b9b8-faba9f0d11ee",
   "metadata": {},
   "outputs": [
    {
     "name": "stdout",
     "output_type": "stream",
     "text": [
      "<class 'pandas.core.frame.DataFrame'>\n",
      "DatetimeIndex: 58707 entries, 2009-01-01 to 2023-08-12\n",
      "Data columns (total 2 columns):\n",
      " #   Column          Non-Null Count  Dtype \n",
      "---  ------          --------------  ----- \n",
      " 0   city            58707 non-null  object\n",
      " 1   intensity_rain  58707 non-null  int64 \n",
      "dtypes: int64(1), object(1)\n",
      "memory usage: 1.3+ MB\n"
     ]
    }
   ],
   "source": [
    "df_rain.info()"
   ]
  },
  {
   "cell_type": "code",
   "execution_count": 170,
   "id": "9355f5d3-36d1-4dfb-bb4b-27cfa56afe62",
   "metadata": {},
   "outputs": [],
   "source": [
    "df_flood = pd.read_csv('twitter_flood.csv',index_col=[\"date_time\"])"
   ]
  },
  {
   "cell_type": "code",
   "execution_count": 171,
   "id": "121515a1-9d8c-43a2-9e9e-ae84ee7ccad4",
   "metadata": {},
   "outputs": [
    {
     "data": {
      "text/html": [
       "<div>\n",
       "<style scoped>\n",
       "    .dataframe tbody tr th:only-of-type {\n",
       "        vertical-align: middle;\n",
       "    }\n",
       "\n",
       "    .dataframe tbody tr th {\n",
       "        vertical-align: top;\n",
       "    }\n",
       "\n",
       "    .dataframe thead th {\n",
       "        text-align: right;\n",
       "    }\n",
       "</style>\n",
       "<table border=\"1\" class=\"dataframe\">\n",
       "  <thead>\n",
       "    <tr style=\"text-align: right;\">\n",
       "      <th></th>\n",
       "      <th>city</th>\n",
       "      <th>intensity_flood</th>\n",
       "    </tr>\n",
       "    <tr>\n",
       "      <th>date_time</th>\n",
       "      <th></th>\n",
       "      <th></th>\n",
       "    </tr>\n",
       "  </thead>\n",
       "  <tbody>\n",
       "    <tr>\n",
       "      <th>2009-01-01</th>\n",
       "      <td>Atakpame</td>\n",
       "      <td>0</td>\n",
       "    </tr>\n",
       "    <tr>\n",
       "      <th>2009-01-02</th>\n",
       "      <td>Atakpame</td>\n",
       "      <td>0</td>\n",
       "    </tr>\n",
       "    <tr>\n",
       "      <th>2009-01-03</th>\n",
       "      <td>Atakpame</td>\n",
       "      <td>0</td>\n",
       "    </tr>\n",
       "    <tr>\n",
       "      <th>2009-01-04</th>\n",
       "      <td>Atakpame</td>\n",
       "      <td>0</td>\n",
       "    </tr>\n",
       "    <tr>\n",
       "      <th>2009-01-05</th>\n",
       "      <td>Atakpame</td>\n",
       "      <td>0</td>\n",
       "    </tr>\n",
       "  </tbody>\n",
       "</table>\n",
       "</div>"
      ],
      "text/plain": [
       "                city  intensity_flood\n",
       "date_time                            \n",
       "2009-01-01  Atakpame                0\n",
       "2009-01-02  Atakpame                0\n",
       "2009-01-03  Atakpame                0\n",
       "2009-01-04  Atakpame                0\n",
       "2009-01-05  Atakpame                0"
      ]
     },
     "execution_count": 171,
     "metadata": {},
     "output_type": "execute_result"
    }
   ],
   "source": [
    "df_flood.head()"
   ]
  },
  {
   "cell_type": "code",
   "execution_count": 172,
   "id": "f1c5f9ea-7f67-4b7d-b3d0-d6e54b6290e8",
   "metadata": {},
   "outputs": [],
   "source": [
    "df_flood.index = pd.to_datetime(df_flood.index)"
   ]
  },
  {
   "cell_type": "code",
   "execution_count": 173,
   "id": "428f5271-2141-4a4d-8d4b-464ced56466b",
   "metadata": {},
   "outputs": [
    {
     "name": "stdout",
     "output_type": "stream",
     "text": [
      "<class 'pandas.core.frame.DataFrame'>\n",
      "DatetimeIndex: 58707 entries, 2009-01-01 to 2023-08-12\n",
      "Data columns (total 2 columns):\n",
      " #   Column           Non-Null Count  Dtype \n",
      "---  ------           --------------  ----- \n",
      " 0   city             58707 non-null  object\n",
      " 1   intensity_flood  58707 non-null  int64 \n",
      "dtypes: int64(1), object(1)\n",
      "memory usage: 1.3+ MB\n"
     ]
    }
   ],
   "source": [
    "df_flood.info()"
   ]
  },
  {
   "cell_type": "code",
   "execution_count": 174,
   "id": "57b7f337-3472-4453-a507-28138dd76c0a",
   "metadata": {},
   "outputs": [],
   "source": [
    "df_drought = pd.read_csv('twitter_drought.csv',index_col=[\"date_time\"])"
   ]
  },
  {
   "cell_type": "code",
   "execution_count": 175,
   "id": "c8c4613f-c769-46a5-a534-e3ac34492736",
   "metadata": {},
   "outputs": [
    {
     "data": {
      "text/html": [
       "<div>\n",
       "<style scoped>\n",
       "    .dataframe tbody tr th:only-of-type {\n",
       "        vertical-align: middle;\n",
       "    }\n",
       "\n",
       "    .dataframe tbody tr th {\n",
       "        vertical-align: top;\n",
       "    }\n",
       "\n",
       "    .dataframe thead th {\n",
       "        text-align: right;\n",
       "    }\n",
       "</style>\n",
       "<table border=\"1\" class=\"dataframe\">\n",
       "  <thead>\n",
       "    <tr style=\"text-align: right;\">\n",
       "      <th></th>\n",
       "      <th>city</th>\n",
       "      <th>intensity_drought</th>\n",
       "    </tr>\n",
       "    <tr>\n",
       "      <th>date_time</th>\n",
       "      <th></th>\n",
       "      <th></th>\n",
       "    </tr>\n",
       "  </thead>\n",
       "  <tbody>\n",
       "    <tr>\n",
       "      <th>2009-01-01</th>\n",
       "      <td>Atakpame</td>\n",
       "      <td>0</td>\n",
       "    </tr>\n",
       "    <tr>\n",
       "      <th>2009-01-02</th>\n",
       "      <td>Atakpame</td>\n",
       "      <td>0</td>\n",
       "    </tr>\n",
       "    <tr>\n",
       "      <th>2009-01-03</th>\n",
       "      <td>Atakpame</td>\n",
       "      <td>0</td>\n",
       "    </tr>\n",
       "    <tr>\n",
       "      <th>2009-01-04</th>\n",
       "      <td>Atakpame</td>\n",
       "      <td>0</td>\n",
       "    </tr>\n",
       "    <tr>\n",
       "      <th>2009-01-05</th>\n",
       "      <td>Atakpame</td>\n",
       "      <td>0</td>\n",
       "    </tr>\n",
       "  </tbody>\n",
       "</table>\n",
       "</div>"
      ],
      "text/plain": [
       "                city  intensity_drought\n",
       "date_time                              \n",
       "2009-01-01  Atakpame                  0\n",
       "2009-01-02  Atakpame                  0\n",
       "2009-01-03  Atakpame                  0\n",
       "2009-01-04  Atakpame                  0\n",
       "2009-01-05  Atakpame                  0"
      ]
     },
     "execution_count": 175,
     "metadata": {},
     "output_type": "execute_result"
    }
   ],
   "source": [
    "df_drought.head()"
   ]
  },
  {
   "cell_type": "code",
   "execution_count": 176,
   "id": "4782c28e-987b-432f-8e93-4671aad49c3c",
   "metadata": {},
   "outputs": [],
   "source": [
    "df_drought.index = pd.to_datetime(df_drought.index)"
   ]
  },
  {
   "cell_type": "code",
   "execution_count": 177,
   "id": "18d3fa11-149c-45eb-9435-350afbf8d7a8",
   "metadata": {},
   "outputs": [
    {
     "name": "stdout",
     "output_type": "stream",
     "text": [
      "<class 'pandas.core.frame.DataFrame'>\n",
      "DatetimeIndex: 58707 entries, 2009-01-01 to 2023-08-12\n",
      "Data columns (total 2 columns):\n",
      " #   Column             Non-Null Count  Dtype \n",
      "---  ------             --------------  ----- \n",
      " 0   city               58707 non-null  object\n",
      " 1   intensity_drought  58707 non-null  int64 \n",
      "dtypes: int64(1), object(1)\n",
      "memory usage: 1.3+ MB\n"
     ]
    }
   ],
   "source": [
    "df_drought.info()"
   ]
  },
  {
   "cell_type": "code",
   "execution_count": 178,
   "id": "4c4c0787-df13-48c3-b95d-2439d70705a3",
   "metadata": {},
   "outputs": [
    {
     "data": {
      "text/plain": [
       "array(['Atakpame', 'Kara', 'Dapaong', 'Sokode', 'Bafilo', 'Kpalime',\n",
       "       'Bassar', 'Tsevie', 'Lome', 'Badou', 'Mango'], dtype=object)"
      ]
     },
     "execution_count": 178,
     "metadata": {},
     "output_type": "execute_result"
    }
   ],
   "source": [
    "df['city'].unique()"
   ]
  },
  {
   "cell_type": "code",
   "execution_count": 179,
   "id": "cd767b5b-af14-4b46-8426-bd7bb9bbfde5",
   "metadata": {},
   "outputs": [],
   "source": [
    "df_atakpame = df.loc[df['city'] == 'Atakpame']"
   ]
  },
  {
   "cell_type": "code",
   "execution_count": 180,
   "id": "2206416f-c636-465b-842e-126e7ca20cac",
   "metadata": {},
   "outputs": [
    {
     "name": "stdout",
     "output_type": "stream",
     "text": [
      "<class 'pandas.core.frame.DataFrame'>\n",
      "DatetimeIndex: 5337 entries, 2009-01-01 to 2023-08-12\n",
      "Data columns (total 19 columns):\n",
      " #   Column                           Non-Null Count  Dtype  \n",
      "---  ------                           --------------  -----  \n",
      " 0   weathercode (wmo code)           5335 non-null   float64\n",
      " 1   temperature_2m_max (°C)          5335 non-null   float64\n",
      " 2   temperature_2m_min (°C)          5335 non-null   float64\n",
      " 3   temperature_2m_mean (°C)         5335 non-null   float64\n",
      " 4   apparent_temperature_max (°C)    5335 non-null   float64\n",
      " 5   apparent_temperature_min (°C)    5335 non-null   float64\n",
      " 6   apparent_temperature_mean (°C)   5335 non-null   float64\n",
      " 7   precipitation_sum (mm)           5335 non-null   float64\n",
      " 8   rain_sum (mm)                    5335 non-null   float64\n",
      " 9   precipitation_hours (h)          5337 non-null   float64\n",
      " 10  windspeed_10m_max (km/h)         5335 non-null   float64\n",
      " 11  windgusts_10m_max (km/h)         5335 non-null   float64\n",
      " 12  winddirection_10m_dominant (°)   5335 non-null   float64\n",
      " 13  et0_fao_evapotranspiration (mm)  5335 non-null   float64\n",
      " 14  latitude                         5337 non-null   float64\n",
      " 15  longitude                        5337 non-null   float64\n",
      " 16  elevation                        5337 non-null   float64\n",
      " 17  river_discharge                  5337 non-null   float64\n",
      " 18  city                             5337 non-null   object \n",
      "dtypes: float64(18), object(1)\n",
      "memory usage: 833.9+ KB\n"
     ]
    }
   ],
   "source": [
    "df_atakpame.info()"
   ]
  },
  {
   "cell_type": "code",
   "execution_count": 181,
   "id": "19e0decf-249d-4e8a-a9dc-c5d67f692e10",
   "metadata": {},
   "outputs": [],
   "source": [
    "df_rain_atakpame = df_rain[df_rain['city'] == 'Atakpame']"
   ]
  },
  {
   "cell_type": "code",
   "execution_count": 182,
   "id": "0e75220f-c570-4565-9e6a-413133fa9c50",
   "metadata": {},
   "outputs": [
    {
     "name": "stderr",
     "output_type": "stream",
     "text": [
      "/var/folders/1d/w72pys2d2q58j17kf_kg6h300000gr/T/ipykernel_5782/2350726786.py:1: SettingWithCopyWarning: \n",
      "A value is trying to be set on a copy of a slice from a DataFrame\n",
      "\n",
      "See the caveats in the documentation: https://pandas.pydata.org/pandas-docs/stable/user_guide/indexing.html#returning-a-view-versus-a-copy\n",
      "  df_rain_atakpame.drop(['city'],axis=1,inplace=True)\n"
     ]
    }
   ],
   "source": [
    "df_rain_atakpame.drop(['city'],axis=1,inplace=True)"
   ]
  },
  {
   "cell_type": "code",
   "execution_count": 183,
   "id": "b14c395e-3559-4ab2-afc9-94c60e7fe68c",
   "metadata": {},
   "outputs": [
    {
     "name": "stdout",
     "output_type": "stream",
     "text": [
      "<class 'pandas.core.frame.DataFrame'>\n",
      "DatetimeIndex: 5337 entries, 2009-01-01 to 2023-08-12\n",
      "Data columns (total 1 columns):\n",
      " #   Column          Non-Null Count  Dtype\n",
      "---  ------          --------------  -----\n",
      " 0   intensity_rain  5337 non-null   int64\n",
      "dtypes: int64(1)\n",
      "memory usage: 83.4 KB\n"
     ]
    }
   ],
   "source": [
    "df_rain_atakpame.info()"
   ]
  },
  {
   "cell_type": "code",
   "execution_count": 184,
   "id": "c4cd5beb-f992-4992-b559-38edaf1fd240",
   "metadata": {},
   "outputs": [
    {
     "data": {
      "text/plain": [
       "(5337, 1)"
      ]
     },
     "execution_count": 184,
     "metadata": {},
     "output_type": "execute_result"
    }
   ],
   "source": [
    "df_rain_atakpame.shape"
   ]
  },
  {
   "cell_type": "code",
   "execution_count": 185,
   "id": "a6f2e781-159d-4c73-b205-c78d6b816f30",
   "metadata": {},
   "outputs": [],
   "source": [
    "df_drought_atakpame = df_drought[df_drought['city'] == 'Atakpame']"
   ]
  },
  {
   "cell_type": "code",
   "execution_count": 186,
   "id": "19cda0d6-5ea6-431c-be99-f80a7951a3ef",
   "metadata": {},
   "outputs": [
    {
     "name": "stdout",
     "output_type": "stream",
     "text": [
      "<class 'pandas.core.frame.DataFrame'>\n",
      "DatetimeIndex: 5337 entries, 2009-01-01 to 2023-08-12\n",
      "Data columns (total 2 columns):\n",
      " #   Column             Non-Null Count  Dtype \n",
      "---  ------             --------------  ----- \n",
      " 0   city               5337 non-null   object\n",
      " 1   intensity_drought  5337 non-null   int64 \n",
      "dtypes: int64(1), object(1)\n",
      "memory usage: 125.1+ KB\n"
     ]
    }
   ],
   "source": [
    "df_drought_atakpame.info()"
   ]
  },
  {
   "cell_type": "code",
   "execution_count": 187,
   "id": "831f7785-30ed-429a-8464-27514058a87b",
   "metadata": {},
   "outputs": [
    {
     "data": {
      "text/plain": [
       "(5337, 2)"
      ]
     },
     "execution_count": 187,
     "metadata": {},
     "output_type": "execute_result"
    }
   ],
   "source": [
    "df_drought_atakpame.shape"
   ]
  },
  {
   "cell_type": "code",
   "execution_count": 188,
   "id": "3180ffb6-a813-4ff0-93c7-3bbe04b29d1e",
   "metadata": {},
   "outputs": [
    {
     "name": "stdout",
     "output_type": "stream",
     "text": [
      "<class 'pandas.core.frame.DataFrame'>\n",
      "DatetimeIndex: 5337 entries, 2009-01-01 to 2023-08-12\n",
      "Data columns (total 2 columns):\n",
      " #   Column             Non-Null Count  Dtype \n",
      "---  ------             --------------  ----- \n",
      " 0   city               5337 non-null   object\n",
      " 1   intensity_drought  5337 non-null   int64 \n",
      "dtypes: int64(1), object(1)\n",
      "memory usage: 125.1+ KB\n"
     ]
    }
   ],
   "source": [
    "df_drought_atakpame.info()"
   ]
  },
  {
   "cell_type": "code",
   "execution_count": 189,
   "id": "c9e9d800-f2d6-48d4-a077-45791a8c17a8",
   "metadata": {},
   "outputs": [
    {
     "name": "stderr",
     "output_type": "stream",
     "text": [
      "/var/folders/1d/w72pys2d2q58j17kf_kg6h300000gr/T/ipykernel_5782/373297473.py:1: SettingWithCopyWarning: \n",
      "A value is trying to be set on a copy of a slice from a DataFrame\n",
      "\n",
      "See the caveats in the documentation: https://pandas.pydata.org/pandas-docs/stable/user_guide/indexing.html#returning-a-view-versus-a-copy\n",
      "  df_drought_atakpame.drop(['city'],axis=1,inplace=True)\n"
     ]
    }
   ],
   "source": [
    "df_drought_atakpame.drop(['city'],axis=1,inplace=True)"
   ]
  },
  {
   "cell_type": "code",
   "execution_count": 190,
   "id": "f0f020b5-cda2-403b-b482-85286723d5b4",
   "metadata": {},
   "outputs": [],
   "source": [
    "df_flood_atakpame = df_flood[df_flood['city'] == 'Atakpame']"
   ]
  },
  {
   "cell_type": "code",
   "execution_count": 191,
   "id": "64b7a410-d318-46f6-a377-607527d06041",
   "metadata": {},
   "outputs": [
    {
     "name": "stdout",
     "output_type": "stream",
     "text": [
      "<class 'pandas.core.frame.DataFrame'>\n",
      "DatetimeIndex: 5337 entries, 2009-01-01 to 2023-08-12\n",
      "Data columns (total 2 columns):\n",
      " #   Column           Non-Null Count  Dtype \n",
      "---  ------           --------------  ----- \n",
      " 0   city             5337 non-null   object\n",
      " 1   intensity_flood  5337 non-null   int64 \n",
      "dtypes: int64(1), object(1)\n",
      "memory usage: 125.1+ KB\n"
     ]
    }
   ],
   "source": [
    "df_flood_atakpame.info()"
   ]
  },
  {
   "cell_type": "code",
   "execution_count": 192,
   "id": "09025031-3cbd-4043-b5d3-c7a747202b67",
   "metadata": {},
   "outputs": [
    {
     "name": "stdout",
     "output_type": "stream",
     "text": [
      "<class 'pandas.core.frame.DataFrame'>\n",
      "DatetimeIndex: 5337 entries, 2009-01-01 to 2023-08-12\n",
      "Data columns (total 2 columns):\n",
      " #   Column           Non-Null Count  Dtype \n",
      "---  ------           --------------  ----- \n",
      " 0   city             5337 non-null   object\n",
      " 1   intensity_flood  5337 non-null   int64 \n",
      "dtypes: int64(1), object(1)\n",
      "memory usage: 125.1+ KB\n"
     ]
    }
   ],
   "source": [
    "df_flood_atakpame.info()"
   ]
  },
  {
   "cell_type": "code",
   "execution_count": 193,
   "id": "b1bb8b6c-8da5-4e8a-98c4-81381bf8f55c",
   "metadata": {},
   "outputs": [
    {
     "data": {
      "text/plain": [
       "(5337, 2)"
      ]
     },
     "execution_count": 193,
     "metadata": {},
     "output_type": "execute_result"
    }
   ],
   "source": [
    "df_flood_atakpame.shape"
   ]
  },
  {
   "cell_type": "code",
   "execution_count": 194,
   "id": "2183c71b-809e-43e0-9bb7-ca0c1a8ec691",
   "metadata": {},
   "outputs": [
    {
     "name": "stderr",
     "output_type": "stream",
     "text": [
      "/var/folders/1d/w72pys2d2q58j17kf_kg6h300000gr/T/ipykernel_5782/1089197862.py:1: SettingWithCopyWarning: \n",
      "A value is trying to be set on a copy of a slice from a DataFrame\n",
      "\n",
      "See the caveats in the documentation: https://pandas.pydata.org/pandas-docs/stable/user_guide/indexing.html#returning-a-view-versus-a-copy\n",
      "  df_flood_atakpame.drop(['city'],axis=1,inplace=True)\n"
     ]
    }
   ],
   "source": [
    "df_flood_atakpame.drop(['city'],axis=1,inplace=True)"
   ]
  },
  {
   "cell_type": "code",
   "execution_count": 196,
   "id": "8f55b6e1-f348-4124-a04d-da14334693e1",
   "metadata": {},
   "outputs": [
    {
     "data": {
      "text/plain": [
       "(5337, 19)"
      ]
     },
     "execution_count": 196,
     "metadata": {},
     "output_type": "execute_result"
    }
   ],
   "source": [
    "df_atakpame.shape"
   ]
  },
  {
   "cell_type": "code",
   "execution_count": 198,
   "id": "59bff950-bf6c-4a71-92c5-37e5bb32200d",
   "metadata": {},
   "outputs": [
    {
     "data": {
      "text/plain": [
       "(58707, 2)"
      ]
     },
     "execution_count": 198,
     "metadata": {},
     "output_type": "execute_result"
    }
   ],
   "source": [
    "df_rain.shape"
   ]
  },
  {
   "cell_type": "code",
   "execution_count": 199,
   "id": "a5626593-4b4e-4c3b-8b6e-fd95e14e4231",
   "metadata": {},
   "outputs": [
    {
     "name": "stdout",
     "output_type": "stream",
     "text": [
      "DatetimeIndex(['2009-01-01', '2009-01-02', '2009-01-03', '2009-01-04',\n",
      "               '2009-01-05', '2009-01-06', '2009-01-07', '2009-01-08',\n",
      "               '2009-01-09', '2009-01-10',\n",
      "               ...\n",
      "               '2023-08-03', '2023-08-04', '2023-08-05', '2023-08-06',\n",
      "               '2023-08-07', '2023-08-08', '2023-08-09', '2023-08-10',\n",
      "               '2023-08-11', '2023-08-12'],\n",
      "              dtype='datetime64[ns]', name='date_time', length=5337, freq=None)\n"
     ]
    }
   ],
   "source": [
    "print(df_atakpame.index)"
   ]
  },
  {
   "cell_type": "code",
   "execution_count": 207,
   "id": "99474f03-fce4-488a-802a-e673f2813f31",
   "metadata": {},
   "outputs": [],
   "source": [
    "df2 = pd.concat([df_atakpame, df_rain_atakpame], axis=1)"
   ]
  },
  {
   "cell_type": "code",
   "execution_count": 209,
   "id": "39806904-752e-419b-a152-278092bc7d07",
   "metadata": {},
   "outputs": [],
   "source": [
    "df3 = pd.concat([df2,df_flood_atakpame],axis=1)"
   ]
  },
  {
   "cell_type": "code",
   "execution_count": 210,
   "id": "c95e4bd3-3797-45a9-bdcb-e780fb099760",
   "metadata": {},
   "outputs": [],
   "source": [
    "df4 = pd.concat([df3,df_drought_atakpame],axis=1)"
   ]
  },
  {
   "cell_type": "code",
   "execution_count": 211,
   "id": "d4ad774e-0dc7-43b4-be07-4383da7884bc",
   "metadata": {},
   "outputs": [
    {
     "name": "stdout",
     "output_type": "stream",
     "text": [
      "<class 'pandas.core.frame.DataFrame'>\n",
      "DatetimeIndex: 5337 entries, 2009-01-01 to 2023-08-12\n",
      "Data columns (total 22 columns):\n",
      " #   Column                           Non-Null Count  Dtype  \n",
      "---  ------                           --------------  -----  \n",
      " 0   weathercode (wmo code)           5335 non-null   float64\n",
      " 1   temperature_2m_max (°C)          5335 non-null   float64\n",
      " 2   temperature_2m_min (°C)          5335 non-null   float64\n",
      " 3   temperature_2m_mean (°C)         5335 non-null   float64\n",
      " 4   apparent_temperature_max (°C)    5335 non-null   float64\n",
      " 5   apparent_temperature_min (°C)    5335 non-null   float64\n",
      " 6   apparent_temperature_mean (°C)   5335 non-null   float64\n",
      " 7   precipitation_sum (mm)           5335 non-null   float64\n",
      " 8   rain_sum (mm)                    5335 non-null   float64\n",
      " 9   precipitation_hours (h)          5337 non-null   float64\n",
      " 10  windspeed_10m_max (km/h)         5335 non-null   float64\n",
      " 11  windgusts_10m_max (km/h)         5335 non-null   float64\n",
      " 12  winddirection_10m_dominant (°)   5335 non-null   float64\n",
      " 13  et0_fao_evapotranspiration (mm)  5335 non-null   float64\n",
      " 14  latitude                         5337 non-null   float64\n",
      " 15  longitude                        5337 non-null   float64\n",
      " 16  elevation                        5337 non-null   float64\n",
      " 17  river_discharge                  5337 non-null   float64\n",
      " 18  city                             5337 non-null   object \n",
      " 19  intensity_rain                   5337 non-null   int64  \n",
      " 20  intensity_flood                  5337 non-null   int64  \n",
      " 21  intensity_drought                5337 non-null   int64  \n",
      "dtypes: float64(18), int64(3), object(1)\n",
      "memory usage: 959.0+ KB\n"
     ]
    }
   ],
   "source": [
    "df4.info()"
   ]
  },
  {
   "cell_type": "code",
   "execution_count": 212,
   "id": "a42c9251-0bbe-4143-9d51-3fe91513499a",
   "metadata": {},
   "outputs": [],
   "source": [
    "df4.to_csv(\"weather_atakpame.csv\")"
   ]
  },
  {
   "cell_type": "code",
   "execution_count": null,
   "id": "e0d062f7-5c7c-4fa3-892b-f042cb583036",
   "metadata": {},
   "outputs": [],
   "source": []
  }
 ],
 "metadata": {
  "kernelspec": {
   "display_name": "Python 3 (ipykernel)",
   "language": "python",
   "name": "python3"
  },
  "language_info": {
   "codemirror_mode": {
    "name": "ipython",
    "version": 3
   },
   "file_extension": ".py",
   "mimetype": "text/x-python",
   "name": "python",
   "nbconvert_exporter": "python",
   "pygments_lexer": "ipython3",
   "version": "3.9.13"
  }
 },
 "nbformat": 4,
 "nbformat_minor": 5
}
