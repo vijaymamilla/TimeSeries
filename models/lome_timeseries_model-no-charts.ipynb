{
 "cells": [
  {
   "cell_type": "code",
   "execution_count": 47,
   "metadata": {
    "colab": {
     "base_uri": "https://localhost:8080/"
    },
    "id": "mOrtghntJXfV",
    "outputId": "969c267c-8919-4417-9d95-fce1ccb658ac"
   },
   "outputs": [
    {
     "name": "stdout",
     "output_type": "stream",
     "text": [
      "2.12.0\n"
     ]
    }
   ],
   "source": [
    "\n",
    "\n",
    "import tensorflow as tf\n",
    "print(tf.__version__)"
   ]
  },
  {
   "cell_type": "code",
   "execution_count": 48,
   "metadata": {
    "id": "8Luzp1Ou2h-N"
   },
   "outputs": [],
   "source": [
    "import datetime\n",
    "\n",
    "import numpy as np\n",
    "import pandas as pd\n",
    "import seaborn as sns\n",
    "import tensorflow as tf\n",
    "import matplotlib.pyplot as plt\n",
    "\n",
    "from tensorflow.keras import Model, Sequential\n",
    "from tensorflow import keras\n",
    "from tensorflow.keras.optimizers import Adam\n",
    "from tensorflow.keras.callbacks import EarlyStopping\n",
    "from tensorflow.keras.losses import MeanSquaredError\n",
    "from tensorflow.keras.metrics import MeanAbsoluteError\n",
    "\n",
    "from tensorflow.keras.layers import Dense, Conv1D, LSTM, Lambda, Reshape, RNN, LSTMCell\n",
    "\n",
    "import warnings\n",
    "warnings.filterwarnings('ignore')"
   ]
  },
  {
   "cell_type": "code",
   "execution_count": null,
   "metadata": {
    "id": "B5Gd1Nt-W-rt"
   },
   "outputs": [],
   "source": []
  },
  {
   "cell_type": "code",
   "execution_count": 49,
   "metadata": {
    "id": "-RbEbk7St3_K"
   },
   "outputs": [],
   "source": [
    "plt.rcParams['figure.figsize'] = (10, 7.5)\n",
    "plt.rcParams['axes.grid'] = False"
   ]
  },
  {
   "cell_type": "code",
   "execution_count": 50,
   "metadata": {
    "id": "sO4j2Z_Pt5gS"
   },
   "outputs": [],
   "source": [
    "tf.random.set_seed(42)\n",
    "np.random.seed(42)"
   ]
  },
  {
   "cell_type": "code",
   "execution_count": 51,
   "metadata": {
    "colab": {
     "base_uri": "https://localhost:8080/"
    },
    "id": "F4fClMlaJPZN",
    "outputId": "affebb92-80bf-4fd8-f955-7e6e53f4781b"
   },
   "outputs": [
    {
     "name": "stdout",
     "output_type": "stream",
     "text": [
      "(3735, 21) (1068, 21) (534, 21)\n"
     ]
    }
   ],
   "source": [
    "train_df = pd.read_csv('data/lome_train1.csv', index_col='date_time',parse_dates=True)\n",
    "val_df = pd.read_csv('data/lome_val1.csv', index_col='date_time',parse_dates=True)\n",
    "test_df = pd.read_csv('data/lome_test1.csv', index_col='date_time',parse_dates=True)\n",
    "\n",
    "print(train_df.shape, val_df.shape, test_df.shape)\n"
   ]
  },
  {
   "cell_type": "code",
   "execution_count": 52,
   "metadata": {
    "id": "cWrMbDVzobn6"
   },
   "outputs": [],
   "source": [
    "#DataWindow Class"
   ]
  },
  {
   "cell_type": "markdown",
   "metadata": {
    "id": "VEwc8zLyubAH"
   },
   "source": []
  },
  {
   "cell_type": "code",
   "execution_count": 53,
   "metadata": {
    "id": "e-1iDKP2sWy_"
   },
   "outputs": [],
   "source": [
    "class DataWindow():\n",
    "    def __init__(self, input_width, label_width, shift,\n",
    "                 train_df=train_df, val_df=val_df, test_df=test_df,\n",
    "                 label_columns=None):\n",
    "\n",
    "        self.train_df = train_df\n",
    "        self.val_df = val_df\n",
    "        self.test_df = test_df\n",
    "\n",
    "        self.label_columns = label_columns\n",
    "        if label_columns is not None:\n",
    "            self.label_columns_indices = {name: i for i, name in enumerate(label_columns)}\n",
    "        self.column_indices = {name: i for i, name in enumerate(train_df.columns)}\n",
    "\n",
    "        self.input_width = input_width\n",
    "        self.label_width = label_width\n",
    "        self.shift = shift\n",
    "\n",
    "        self.total_window_size = input_width + shift\n",
    "\n",
    "        self.input_slice = slice(0, input_width)\n",
    "        self.input_indices = np.arange(self.total_window_size)[self.input_slice]\n",
    "\n",
    "        self.label_start = self.total_window_size - self.label_width\n",
    "        self.labels_slice = slice(self.label_start, None)\n",
    "        self.label_indices = np.arange(self.total_window_size)[self.labels_slice]\n",
    "\n",
    "    def split_to_inputs_labels(self, features):\n",
    "        inputs = features[:, self.input_slice, :]\n",
    "        labels = features[:, self.labels_slice, :]\n",
    "        if self.label_columns is not None:\n",
    "            labels = tf.stack(\n",
    "                [labels[:,:,self.column_indices[name]] for name in self.label_columns],\n",
    "                axis=-1\n",
    "            )\n",
    "        inputs.set_shape([None, self.input_width, None])\n",
    "        labels.set_shape([None, self.label_width, None])\n",
    "\n",
    "        return inputs, labels\n",
    "\n",
    "    def plot(self, model=None, plot_col='rain_sum (mm)', max_subplots=3):\n",
    "        inputs, labels = self.sample_batch\n",
    "\n",
    "        plt.figure(figsize=(12, 8))\n",
    "        plot_col_index = self.column_indices[plot_col]\n",
    "        max_n = min(max_subplots, len(inputs))\n",
    "\n",
    "        for n in range(max_n):\n",
    "            plt.subplot(3, 1, n+1)\n",
    "            plt.ylabel(f'{plot_col} [scaled]')\n",
    "            plt.plot(self.input_indices, inputs[n, :, plot_col_index],\n",
    "                     label='Inputs', marker='.', zorder=-10)\n",
    "\n",
    "            if self.label_columns:\n",
    "              label_col_index = self.label_columns_indices.get(plot_col, None)\n",
    "            else:\n",
    "              label_col_index = plot_col_index\n",
    "\n",
    "            if label_col_index is None:\n",
    "              continue\n",
    "\n",
    "            plt.scatter(self.label_indices, labels[n, :, label_col_index],\n",
    "                        edgecolors='k', marker='s', label='Labels', c='green', s=64)\n",
    "            if model is not None:\n",
    "              predictions = model(inputs)\n",
    "              plt.scatter(self.label_indices, predictions[n, :, label_col_index],\n",
    "                          marker='X', edgecolors='k', label='Predictions',\n",
    "                          c='red', s=64)\n",
    "\n",
    "            if n == 0:\n",
    "              plt.legend()\n",
    "\n",
    "        plt.xlabel('Time (h)')\n",
    "\n",
    "    def make_dataset(self, data):\n",
    "        data = np.array(data, dtype=np.float32)\n",
    "        ds = tf.keras.preprocessing.timeseries_dataset_from_array(\n",
    "            data=data,\n",
    "            targets=None,\n",
    "            sequence_length=self.total_window_size,\n",
    "            sequence_stride=1,\n",
    "            shuffle=True,\n",
    "            batch_size=32\n",
    "        )\n",
    "\n",
    "        ds = ds.map(self.split_to_inputs_labels)\n",
    "        return ds\n",
    "\n",
    "    @property\n",
    "    def train(self):\n",
    "        return self.make_dataset(self.train_df)\n",
    "\n",
    "    @property\n",
    "    def val(self):\n",
    "        return self.make_dataset(self.val_df)\n",
    "\n",
    "    @property\n",
    "    def test(self):\n",
    "        return self.make_dataset(self.test_df)\n",
    "\n",
    "    @property\n",
    "    def sample_batch(self):\n",
    "        result = getattr(self, '_sample_batch', None)\n",
    "        if result is None:\n",
    "            result = next(iter(self.train))\n",
    "            self._sample_batch = result\n",
    "        return result"
   ]
  },
  {
   "cell_type": "code",
   "execution_count": 54,
   "metadata": {
    "id": "bd2UWDFu0MP0"
   },
   "outputs": [],
   "source": [
    "class Baseline(Model):\n",
    "    def __init__(self, label_index=None):\n",
    "        super().__init__()\n",
    "        self.label_index = label_index\n",
    "\n",
    "    def call(self, inputs):\n",
    "        if self.label_index is None:\n",
    "            return inputs\n",
    "\n",
    "        elif isinstance(self.label_index, list):\n",
    "            tensors = []\n",
    "            for index in self.label_index:\n",
    "                result = inputs[:, :, index]\n",
    "                result = result[:, :, tf.newaxis]\n",
    "                tensors.append(result)\n",
    "            return tf.concat(tensors, axis=-1)\n",
    "\n",
    "        result = inputs[:, :, self.label_index]\n",
    "        return result[:,:,tf.newaxis]"
   ]
  },
  {
   "cell_type": "markdown",
   "metadata": {
    "id": "Nl3QzDafu76i"
   },
   "source": [
    "Multi-output baseline model\n"
   ]
  },
  {
   "cell_type": "code",
   "execution_count": 55,
   "metadata": {
    "id": "28cMpCI5u-9T"
   },
   "outputs": [],
   "source": [
    "mo_single_step_window = DataWindow(input_width=1, label_width=1, shift=1, label_columns=['precipitation_sum (mm)','rain_sum (mm)','river_discharge','intensity_rain','intensity_flood','intensity_drought'])\n",
    "mo_wide_window = DataWindow(input_width=14, label_width=14, shift=14, label_columns=['precipitation_sum (mm)','rain_sum (mm)','river_discharge','intensity_rain','intensity_flood','intensity_drought'])"
   ]
  },
  {
   "cell_type": "code",
   "execution_count": 56,
   "metadata": {
    "id": "rbzGdipTzI0A"
   },
   "outputs": [],
   "source": [
    "column_indices = {name: i for i, name in enumerate(train_df.columns)}"
   ]
  },
  {
   "cell_type": "code",
   "execution_count": 57,
   "metadata": {
    "colab": {
     "base_uri": "https://localhost:8080/"
    },
    "id": "FNAy4iegy5Ub",
    "outputId": "1bdf7b1b-8d4a-4147-f5fe-c36c12aa94dc"
   },
   "outputs": [
    {
     "name": "stdout",
     "output_type": "stream",
     "text": [
      "7\n",
      "8\n",
      "17\n",
      "18\n",
      "19\n",
      "20\n"
     ]
    }
   ],
   "source": [
    "print(column_indices['precipitation_sum (mm)'])\n",
    "print(column_indices['rain_sum (mm)'])\n",
    "print(column_indices['river_discharge'])\n",
    "print(column_indices['intensity_rain'])\n",
    "print(column_indices['intensity_flood'])\n",
    "print(column_indices['intensity_drought'])"
   ]
  },
  {
   "cell_type": "code",
   "execution_count": 58,
   "metadata": {
    "colab": {
     "base_uri": "https://localhost:8080/"
    },
    "id": "Ui5igR1Ky6D-",
    "outputId": "84ba501c-b145-46b3-c80d-1abe297ed791"
   },
   "outputs": [],
   "source": [
    "mo_baseline_last = Baseline(label_index=[7,8,17,18,19,20])\n",
    "\n",
    "mo_baseline_last.compile(loss=MeanSquaredError(), metrics=[MeanAbsoluteError()])\n",
    "\n",
    "#mo_val_performance = {}\n",
    "#mo_performance = {}\n",
    "\n",
    "#mo_val_performance['Baseline - Last'] = mo_baseline_last.evaluate(mo_wide_window.val)\n",
    "#mo_performance['Baseline - Last'] = mo_baseline_last.evaluate(mo_wide_window.test, verbose=0)"
   ]
  },
  {
   "cell_type": "markdown",
   "metadata": {
    "id": "tjXkluJu35p3"
   },
   "source": [
    "Implementing a deep neural network as a multi-output model"
   ]
  },
  {
   "cell_type": "code",
   "execution_count": 59,
   "metadata": {
    "id": "FnltKLWg40mK"
   },
   "outputs": [],
   "source": [
    "def compile_and_fit(model, window, patience=3, max_epochs=50):\n",
    "    early_stopping = EarlyStopping(monitor='val_loss',\n",
    "                                   patience=patience,\n",
    "                                   mode='min')\n",
    "\n",
    "    model.compile(loss=MeanSquaredError(),\n",
    "                  optimizer=Adam(),\n",
    "                  metrics=[MeanAbsoluteError()])\n",
    "\n",
    "    history = model.fit(window.train,\n",
    "                       epochs=max_epochs,\n",
    "                       validation_data=window.val,\n",
    "                       callbacks=[early_stopping])\n",
    "\n",
    "    return history"
   ]
  },
  {
   "cell_type": "code",
   "execution_count": 60,
   "metadata": {
    "colab": {
     "base_uri": "https://localhost:8080/"
    },
    "id": "On2uYjXi3q70",
    "outputId": "ae91beba-b5a9-4c40-bb1e-1c369f816980"
   },
   "outputs": [
    {
     "name": "stdout",
     "output_type": "stream",
     "text": [
      "Epoch 1/50\n"
     ]
    },
    {
     "name": "stderr",
     "output_type": "stream",
     "text": [
      "2023-09-24 11:51:45.646192: I tensorflow/core/common_runtime/executor.cc:1197] [/device:CPU:0] (DEBUG INFO) Executor start aborting (this does not indicate an error and you can ignore this message): INVALID_ARGUMENT: You must feed a value for placeholder tensor 'Placeholder/_0' with dtype float and shape [3735,21]\n",
      "\t [[{{node Placeholder/_0}}]]\n",
      "2023-09-24 11:51:45.646786: I tensorflow/core/common_runtime/executor.cc:1197] [/device:CPU:0] (DEBUG INFO) Executor start aborting (this does not indicate an error and you can ignore this message): INVALID_ARGUMENT: You must feed a value for placeholder tensor 'Placeholder/_0' with dtype float and shape [3735,21]\n",
      "\t [[{{node Placeholder/_0}}]]\n"
     ]
    },
    {
     "name": "stdout",
     "output_type": "stream",
     "text": [
      " 93/116 [=======================>......] - ETA: 0s - loss: 12.3126 - mean_absolute_error: 1.1264"
     ]
    },
    {
     "name": "stderr",
     "output_type": "stream",
     "text": [
      "2023-09-24 11:51:46.649299: I tensorflow/core/common_runtime/executor.cc:1197] [/device:CPU:0] (DEBUG INFO) Executor start aborting (this does not indicate an error and you can ignore this message): INVALID_ARGUMENT: You must feed a value for placeholder tensor 'Placeholder/_0' with dtype float and shape [1068,21]\n",
      "\t [[{{node Placeholder/_0}}]]\n",
      "2023-09-24 11:51:46.649878: I tensorflow/core/common_runtime/executor.cc:1197] [/device:CPU:0] (DEBUG INFO) Executor start aborting (this does not indicate an error and you can ignore this message): INVALID_ARGUMENT: You must feed a value for placeholder tensor 'Placeholder/_8' with dtype int32 and shape [1041]\n",
      "\t [[{{node Placeholder/_8}}]]\n"
     ]
    },
    {
     "name": "stdout",
     "output_type": "stream",
     "text": [
      "116/116 [==============================] - 1s 4ms/step - loss: 12.6004 - mean_absolute_error: 1.1042 - val_loss: 17.6063 - val_mean_absolute_error: 1.1113\n",
      "Epoch 2/50\n",
      "116/116 [==============================] - 0s 3ms/step - loss: 11.1131 - mean_absolute_error: 1.0005 - val_loss: 17.4091 - val_mean_absolute_error: 1.1571\n",
      "Epoch 3/50\n",
      "116/116 [==============================] - 0s 3ms/step - loss: 11.0178 - mean_absolute_error: 0.9936 - val_loss: 17.8241 - val_mean_absolute_error: 1.0423\n",
      "Epoch 4/50\n",
      "116/116 [==============================] - 0s 3ms/step - loss: 11.0433 - mean_absolute_error: 0.9937 - val_loss: 17.4146 - val_mean_absolute_error: 1.1556\n",
      "Epoch 5/50\n",
      "116/116 [==============================] - 0s 3ms/step - loss: 10.9835 - mean_absolute_error: 0.9896 - val_loss: 17.5154 - val_mean_absolute_error: 1.3005\n"
     ]
    }
   ],
   "source": [
    "mo_dense = Sequential([\n",
    "    Dense(units=64, activation='relu'),\n",
    "    Dense(units=64, activation='relu'),\n",
    "    Dense(units=6,activation='relu')\n",
    "])\n",
    "\n",
    "history = compile_and_fit(mo_dense, mo_wide_window)\n",
    "\n",
    "#mo_val_performance['Dense'] = mo_dense.evaluate(mo_single_step_window.val)\n",
    "#mo_performance['Dense'] = mo_dense.evaluate(mo_single_step_window.test, verbose=0)"
   ]
  },
  {
   "cell_type": "markdown",
   "metadata": {
    "id": "r--e4DKB8TOx"
   },
   "source": [
    "**LSTM**"
   ]
  },
  {
   "cell_type": "code",
   "execution_count": 61,
   "metadata": {
    "colab": {
     "base_uri": "https://localhost:8080/"
    },
    "id": "HeX1hwEH8W8R",
    "outputId": "098f1f48-6a4c-4fbc-949d-ae7ffaae454c"
   },
   "outputs": [
    {
     "name": "stdout",
     "output_type": "stream",
     "text": [
      "Epoch 1/50\n"
     ]
    },
    {
     "name": "stderr",
     "output_type": "stream",
     "text": [
      "2023-09-24 11:51:58.066902: I tensorflow/core/common_runtime/executor.cc:1197] [/device:CPU:0] (DEBUG INFO) Executor start aborting (this does not indicate an error and you can ignore this message): INVALID_ARGUMENT: You must feed a value for placeholder tensor 'Placeholder/_13' with dtype int32\n",
      "\t [[{{node Placeholder/_13}}]]\n",
      "2023-09-24 11:51:58.067509: I tensorflow/core/common_runtime/executor.cc:1197] [/device:CPU:0] (DEBUG INFO) Executor start aborting (this does not indicate an error and you can ignore this message): INVALID_ARGUMENT: You must feed a value for placeholder tensor 'Placeholder/_8' with dtype int32 and shape [3708]\n",
      "\t [[{{node Placeholder/_8}}]]\n",
      "2023-09-24 11:51:58.301589: I tensorflow/core/common_runtime/executor.cc:1197] [/device:CPU:0] (DEBUG INFO) Executor start aborting (this does not indicate an error and you can ignore this message): INVALID_ARGUMENT: You must feed a value for placeholder tensor 'gradients/split_2_grad/concat/split_2/split_dim' with dtype int32\n",
      "\t [[{{node gradients/split_2_grad/concat/split_2/split_dim}}]]\n",
      "2023-09-24 11:51:58.303368: I tensorflow/core/common_runtime/executor.cc:1197] [/device:CPU:0] (DEBUG INFO) Executor start aborting (this does not indicate an error and you can ignore this message): INVALID_ARGUMENT: You must feed a value for placeholder tensor 'gradients/split_grad/concat/split/split_dim' with dtype int32\n",
      "\t [[{{node gradients/split_grad/concat/split/split_dim}}]]\n",
      "2023-09-24 11:51:58.304469: I tensorflow/core/common_runtime/executor.cc:1197] [/device:CPU:0] (DEBUG INFO) Executor start aborting (this does not indicate an error and you can ignore this message): INVALID_ARGUMENT: You must feed a value for placeholder tensor 'gradients/split_1_grad/concat/split_1/split_dim' with dtype int32\n",
      "\t [[{{node gradients/split_1_grad/concat/split_1/split_dim}}]]\n",
      "2023-09-24 11:51:58.498306: I tensorflow/core/common_runtime/executor.cc:1197] [/device:CPU:0] (DEBUG INFO) Executor start aborting (this does not indicate an error and you can ignore this message): INVALID_ARGUMENT: You must feed a value for placeholder tensor 'gradients/split_2_grad/concat/split_2/split_dim' with dtype int32\n",
      "\t [[{{node gradients/split_2_grad/concat/split_2/split_dim}}]]\n",
      "2023-09-24 11:51:58.499593: I tensorflow/core/common_runtime/executor.cc:1197] [/device:CPU:0] (DEBUG INFO) Executor start aborting (this does not indicate an error and you can ignore this message): INVALID_ARGUMENT: You must feed a value for placeholder tensor 'gradients/split_grad/concat/split/split_dim' with dtype int32\n",
      "\t [[{{node gradients/split_grad/concat/split/split_dim}}]]\n",
      "2023-09-24 11:51:58.500734: I tensorflow/core/common_runtime/executor.cc:1197] [/device:CPU:0] (DEBUG INFO) Executor start aborting (this does not indicate an error and you can ignore this message): INVALID_ARGUMENT: You must feed a value for placeholder tensor 'gradients/split_1_grad/concat/split_1/split_dim' with dtype int32\n",
      "\t [[{{node gradients/split_1_grad/concat/split_1/split_dim}}]]\n",
      "2023-09-24 11:51:59.070134: I tensorflow/core/common_runtime/executor.cc:1197] [/device:CPU:0] (DEBUG INFO) Executor start aborting (this does not indicate an error and you can ignore this message): INVALID_ARGUMENT: You must feed a value for placeholder tensor 'gradients/split_2_grad/concat/split_2/split_dim' with dtype int32\n",
      "\t [[{{node gradients/split_2_grad/concat/split_2/split_dim}}]]\n",
      "2023-09-24 11:51:59.072116: I tensorflow/core/common_runtime/executor.cc:1197] [/device:CPU:0] (DEBUG INFO) Executor start aborting (this does not indicate an error and you can ignore this message): INVALID_ARGUMENT: You must feed a value for placeholder tensor 'gradients/split_grad/concat/split/split_dim' with dtype int32\n",
      "\t [[{{node gradients/split_grad/concat/split/split_dim}}]]\n",
      "2023-09-24 11:51:59.073824: I tensorflow/core/common_runtime/executor.cc:1197] [/device:CPU:0] (DEBUG INFO) Executor start aborting (this does not indicate an error and you can ignore this message): INVALID_ARGUMENT: You must feed a value for placeholder tensor 'gradients/split_1_grad/concat/split_1/split_dim' with dtype int32\n",
      "\t [[{{node gradients/split_1_grad/concat/split_1/split_dim}}]]\n"
     ]
    },
    {
     "name": "stdout",
     "output_type": "stream",
     "text": [
      "108/116 [==========================>...] - ETA: 0s - loss: 12.7628 - mean_absolute_error: 0.9925"
     ]
    },
    {
     "name": "stderr",
     "output_type": "stream",
     "text": [
      "2023-09-24 11:52:00.713338: I tensorflow/core/common_runtime/executor.cc:1197] [/device:CPU:0] (DEBUG INFO) Executor start aborting (this does not indicate an error and you can ignore this message): INVALID_ARGUMENT: You must feed a value for placeholder tensor 'Placeholder/_8' with dtype int32 and shape [1041]\n",
      "\t [[{{node Placeholder/_8}}]]\n",
      "2023-09-24 11:52:00.714148: I tensorflow/core/common_runtime/executor.cc:1197] [/device:CPU:0] (DEBUG INFO) Executor start aborting (this does not indicate an error and you can ignore this message): INVALID_ARGUMENT: You must feed a value for placeholder tensor 'Placeholder/_8' with dtype int32 and shape [1041]\n",
      "\t [[{{node Placeholder/_8}}]]\n",
      "2023-09-24 11:52:00.947514: I tensorflow/core/common_runtime/executor.cc:1197] [/device:CPU:0] (DEBUG INFO) Executor start aborting (this does not indicate an error and you can ignore this message): INVALID_ARGUMENT: You must feed a value for placeholder tensor 'gradients/split_2_grad/concat/split_2/split_dim' with dtype int32\n",
      "\t [[{{node gradients/split_2_grad/concat/split_2/split_dim}}]]\n",
      "2023-09-24 11:52:00.949254: I tensorflow/core/common_runtime/executor.cc:1197] [/device:CPU:0] (DEBUG INFO) Executor start aborting (this does not indicate an error and you can ignore this message): INVALID_ARGUMENT: You must feed a value for placeholder tensor 'gradients/split_grad/concat/split/split_dim' with dtype int32\n",
      "\t [[{{node gradients/split_grad/concat/split/split_dim}}]]\n",
      "2023-09-24 11:52:00.950422: I tensorflow/core/common_runtime/executor.cc:1197] [/device:CPU:0] (DEBUG INFO) Executor start aborting (this does not indicate an error and you can ignore this message): INVALID_ARGUMENT: You must feed a value for placeholder tensor 'gradients/split_1_grad/concat/split_1/split_dim' with dtype int32\n",
      "\t [[{{node gradients/split_1_grad/concat/split_1/split_dim}}]]\n"
     ]
    },
    {
     "name": "stdout",
     "output_type": "stream",
     "text": [
      "116/116 [==============================] - 3s 11ms/step - loss: 12.5873 - mean_absolute_error: 0.9872 - val_loss: 18.5922 - val_mean_absolute_error: 1.0608\n",
      "Epoch 2/50\n",
      "116/116 [==============================] - 1s 6ms/step - loss: 11.2254 - mean_absolute_error: 0.9612 - val_loss: 17.9371 - val_mean_absolute_error: 1.0935\n",
      "Epoch 3/50\n",
      "116/116 [==============================] - 1s 6ms/step - loss: 10.9906 - mean_absolute_error: 0.9775 - val_loss: 17.6394 - val_mean_absolute_error: 1.1158\n",
      "Epoch 4/50\n",
      "116/116 [==============================] - 1s 7ms/step - loss: 10.8777 - mean_absolute_error: 0.9715 - val_loss: 17.4626 - val_mean_absolute_error: 1.1367\n",
      "Epoch 5/50\n",
      "116/116 [==============================] - 1s 7ms/step - loss: 10.8248 - mean_absolute_error: 0.9693 - val_loss: 17.3824 - val_mean_absolute_error: 1.1204\n",
      "Epoch 6/50\n",
      "116/116 [==============================] - 1s 7ms/step - loss: 10.8094 - mean_absolute_error: 0.9705 - val_loss: 17.3237 - val_mean_absolute_error: 1.1035\n",
      "Epoch 7/50\n",
      "116/116 [==============================] - 1s 7ms/step - loss: 10.7890 - mean_absolute_error: 0.9699 - val_loss: 17.3239 - val_mean_absolute_error: 1.1100\n",
      "Epoch 8/50\n",
      "116/116 [==============================] - 1s 7ms/step - loss: 10.7719 - mean_absolute_error: 0.9666 - val_loss: 17.3948 - val_mean_absolute_error: 1.0995\n",
      "Epoch 9/50\n",
      "116/116 [==============================] - 1s 7ms/step - loss: 10.7744 - mean_absolute_error: 0.9679 - val_loss: 17.2820 - val_mean_absolute_error: 1.1230\n",
      "Epoch 10/50\n",
      "116/116 [==============================] - 1s 7ms/step - loss: 10.7442 - mean_absolute_error: 0.9656 - val_loss: 17.2631 - val_mean_absolute_error: 1.0894\n",
      "Epoch 11/50\n",
      "116/116 [==============================] - 1s 7ms/step - loss: 10.7356 - mean_absolute_error: 0.9621 - val_loss: 17.2626 - val_mean_absolute_error: 1.1175\n",
      "Epoch 12/50\n",
      "116/116 [==============================] - 1s 7ms/step - loss: 10.7141 - mean_absolute_error: 0.9627 - val_loss: 17.3805 - val_mean_absolute_error: 1.2090\n",
      "Epoch 13/50\n",
      "116/116 [==============================] - 1s 7ms/step - loss: 10.7081 - mean_absolute_error: 0.9637 - val_loss: 17.1862 - val_mean_absolute_error: 1.1135\n",
      "Epoch 14/50\n",
      "116/116 [==============================] - 1s 7ms/step - loss: 10.6739 - mean_absolute_error: 0.9588 - val_loss: 17.1570 - val_mean_absolute_error: 1.1062\n",
      "Epoch 15/50\n",
      "116/116 [==============================] - 1s 7ms/step - loss: 10.6787 - mean_absolute_error: 0.9611 - val_loss: 17.1453 - val_mean_absolute_error: 1.0954\n",
      "Epoch 16/50\n",
      "116/116 [==============================] - 1s 7ms/step - loss: 10.6525 - mean_absolute_error: 0.9605 - val_loss: 17.1678 - val_mean_absolute_error: 1.0918\n",
      "Epoch 17/50\n",
      "116/116 [==============================] - 1s 7ms/step - loss: 10.6170 - mean_absolute_error: 0.9580 - val_loss: 17.1669 - val_mean_absolute_error: 1.1035\n",
      "Epoch 18/50\n",
      "116/116 [==============================] - 1s 7ms/step - loss: 10.6174 - mean_absolute_error: 0.9575 - val_loss: 17.2938 - val_mean_absolute_error: 1.0984\n"
     ]
    }
   ],
   "source": [
    "mo_lstm_model = Sequential([\n",
    "    LSTM(32, return_sequences=True),\n",
    "    Dense(units = 6,activation='relu')\n",
    "])\n",
    "\n",
    "history = compile_and_fit(mo_lstm_model, mo_wide_window)\n",
    "\n",
    "#mo_val_performance = {}\n",
    "#mo_performance = {}\n",
    "\n",
    "#mo_val_performance['LSTM'] = mo_lstm_model.evaluate(mo_wide_window.val)\n",
    "#mo_performance['LSTM'] = mo_lstm_model.evaluate(mo_wide_window.test, verbose=0)"
   ]
  },
  {
   "cell_type": "code",
   "execution_count": 63,
   "metadata": {},
   "outputs": [],
   "source": [
    "mo_lstm_model.save(\"lstm_model.h5\")"
   ]
  },
  {
   "cell_type": "code",
   "execution_count": 64,
   "metadata": {},
   "outputs": [
    {
     "name": "stderr",
     "output_type": "stream",
     "text": [
      "2023-09-24 11:52:24.482795: I tensorflow/core/common_runtime/executor.cc:1197] [/device:CPU:0] (DEBUG INFO) Executor start aborting (this does not indicate an error and you can ignore this message): INVALID_ARGUMENT: You must feed a value for placeholder tensor 'gradients/split_2_grad/concat/split_2/split_dim' with dtype int32\n",
      "\t [[{{node gradients/split_2_grad/concat/split_2/split_dim}}]]\n",
      "2023-09-24 11:52:24.484603: I tensorflow/core/common_runtime/executor.cc:1197] [/device:CPU:0] (DEBUG INFO) Executor start aborting (this does not indicate an error and you can ignore this message): INVALID_ARGUMENT: You must feed a value for placeholder tensor 'gradients/split_grad/concat/split/split_dim' with dtype int32\n",
      "\t [[{{node gradients/split_grad/concat/split/split_dim}}]]\n",
      "2023-09-24 11:52:24.486002: I tensorflow/core/common_runtime/executor.cc:1197] [/device:CPU:0] (DEBUG INFO) Executor start aborting (this does not indicate an error and you can ignore this message): INVALID_ARGUMENT: You must feed a value for placeholder tensor 'gradients/split_1_grad/concat/split_1/split_dim' with dtype int32\n",
      "\t [[{{node gradients/split_1_grad/concat/split_1/split_dim}}]]\n"
     ]
    }
   ],
   "source": [
    "new_model = keras.models.load_model(\"lstm_model.h5\")"
   ]
  },
  {
   "cell_type": "code",
   "execution_count": 65,
   "metadata": {},
   "outputs": [
    {
     "name": "stderr",
     "output_type": "stream",
     "text": [
      "2023-09-24 11:52:27.980763: I tensorflow/core/common_runtime/executor.cc:1197] [/device:CPU:0] (DEBUG INFO) Executor start aborting (this does not indicate an error and you can ignore this message): INVALID_ARGUMENT: You must feed a value for placeholder tensor 'Placeholder/_14' with dtype int32\n",
      "\t [[{{node Placeholder/_14}}]]\n",
      "2023-09-24 11:52:27.981354: I tensorflow/core/common_runtime/executor.cc:1197] [/device:CPU:0] (DEBUG INFO) Executor start aborting (this does not indicate an error and you can ignore this message): INVALID_ARGUMENT: You must feed a value for placeholder tensor 'Placeholder/_8' with dtype int32 and shape [507]\n",
      "\t [[{{node Placeholder/_8}}]]\n"
     ]
    },
    {
     "name": "stdout",
     "output_type": "stream",
     "text": [
      " 1/16 [>.............................] - ETA: 6s"
     ]
    },
    {
     "name": "stderr",
     "output_type": "stream",
     "text": [
      "2023-09-24 11:52:28.186406: I tensorflow/core/common_runtime/executor.cc:1197] [/device:CPU:0] (DEBUG INFO) Executor start aborting (this does not indicate an error and you can ignore this message): INVALID_ARGUMENT: You must feed a value for placeholder tensor 'gradients/split_2_grad/concat/split_2/split_dim' with dtype int32\n",
      "\t [[{{node gradients/split_2_grad/concat/split_2/split_dim}}]]\n",
      "2023-09-24 11:52:28.187920: I tensorflow/core/common_runtime/executor.cc:1197] [/device:CPU:0] (DEBUG INFO) Executor start aborting (this does not indicate an error and you can ignore this message): INVALID_ARGUMENT: You must feed a value for placeholder tensor 'gradients/split_grad/concat/split/split_dim' with dtype int32\n",
      "\t [[{{node gradients/split_grad/concat/split/split_dim}}]]\n",
      "2023-09-24 11:52:28.189148: I tensorflow/core/common_runtime/executor.cc:1197] [/device:CPU:0] (DEBUG INFO) Executor start aborting (this does not indicate an error and you can ignore this message): INVALID_ARGUMENT: You must feed a value for placeholder tensor 'gradients/split_1_grad/concat/split_1/split_dim' with dtype int32\n",
      "\t [[{{node gradients/split_1_grad/concat/split_1/split_dim}}]]\n"
     ]
    },
    {
     "name": "stdout",
     "output_type": "stream",
     "text": [
      "16/16 [==============================] - 0s 2ms/step\n"
     ]
    },
    {
     "data": {
      "text/html": [
       "<div>\n",
       "<style scoped>\n",
       "    .dataframe tbody tr th:only-of-type {\n",
       "        vertical-align: middle;\n",
       "    }\n",
       "\n",
       "    .dataframe tbody tr th {\n",
       "        vertical-align: top;\n",
       "    }\n",
       "\n",
       "    .dataframe thead th {\n",
       "        text-align: right;\n",
       "    }\n",
       "</style>\n",
       "<table border=\"1\" class=\"dataframe\">\n",
       "  <thead>\n",
       "    <tr style=\"text-align: right;\">\n",
       "      <th></th>\n",
       "      <th>precipitation_sum (mm)</th>\n",
       "      <th>rain_sum (mm)</th>\n",
       "      <th>river_discharge</th>\n",
       "      <th>intensity_rain</th>\n",
       "      <th>intensity_flood</th>\n",
       "      <th>intensity_drought</th>\n",
       "    </tr>\n",
       "  </thead>\n",
       "  <tbody>\n",
       "    <tr>\n",
       "      <th>0</th>\n",
       "      <td>2.217372</td>\n",
       "      <td>2.176384</td>\n",
       "      <td>0.0</td>\n",
       "      <td>0.005089</td>\n",
       "      <td>0.0</td>\n",
       "      <td>0.0</td>\n",
       "    </tr>\n",
       "    <tr>\n",
       "      <th>1</th>\n",
       "      <td>2.169400</td>\n",
       "      <td>1.969851</td>\n",
       "      <td>0.0</td>\n",
       "      <td>0.000000</td>\n",
       "      <td>0.0</td>\n",
       "      <td>0.0</td>\n",
       "    </tr>\n",
       "    <tr>\n",
       "      <th>2</th>\n",
       "      <td>2.829458</td>\n",
       "      <td>2.930498</td>\n",
       "      <td>0.0</td>\n",
       "      <td>0.000000</td>\n",
       "      <td>0.0</td>\n",
       "      <td>0.0</td>\n",
       "    </tr>\n",
       "    <tr>\n",
       "      <th>3</th>\n",
       "      <td>2.727690</td>\n",
       "      <td>2.828001</td>\n",
       "      <td>0.0</td>\n",
       "      <td>0.000000</td>\n",
       "      <td>0.0</td>\n",
       "      <td>0.0</td>\n",
       "    </tr>\n",
       "    <tr>\n",
       "      <th>4</th>\n",
       "      <td>2.880639</td>\n",
       "      <td>2.980734</td>\n",
       "      <td>0.0</td>\n",
       "      <td>0.038753</td>\n",
       "      <td>0.0</td>\n",
       "      <td>0.0</td>\n",
       "    </tr>\n",
       "    <tr>\n",
       "      <th>5</th>\n",
       "      <td>2.319134</td>\n",
       "      <td>2.257364</td>\n",
       "      <td>0.0</td>\n",
       "      <td>0.007510</td>\n",
       "      <td>0.0</td>\n",
       "      <td>0.0</td>\n",
       "    </tr>\n",
       "    <tr>\n",
       "      <th>6</th>\n",
       "      <td>2.906512</td>\n",
       "      <td>3.120770</td>\n",
       "      <td>0.0</td>\n",
       "      <td>0.121421</td>\n",
       "      <td>0.0</td>\n",
       "      <td>0.0</td>\n",
       "    </tr>\n",
       "    <tr>\n",
       "      <th>7</th>\n",
       "      <td>3.838314</td>\n",
       "      <td>4.034000</td>\n",
       "      <td>0.0</td>\n",
       "      <td>0.133911</td>\n",
       "      <td>0.0</td>\n",
       "      <td>0.0</td>\n",
       "    </tr>\n",
       "    <tr>\n",
       "      <th>8</th>\n",
       "      <td>3.966962</td>\n",
       "      <td>4.150835</td>\n",
       "      <td>0.0</td>\n",
       "      <td>0.134103</td>\n",
       "      <td>0.0</td>\n",
       "      <td>0.0</td>\n",
       "    </tr>\n",
       "    <tr>\n",
       "      <th>9</th>\n",
       "      <td>3.383754</td>\n",
       "      <td>3.434811</td>\n",
       "      <td>0.0</td>\n",
       "      <td>0.094804</td>\n",
       "      <td>0.0</td>\n",
       "      <td>0.0</td>\n",
       "    </tr>\n",
       "    <tr>\n",
       "      <th>10</th>\n",
       "      <td>4.217390</td>\n",
       "      <td>4.348665</td>\n",
       "      <td>0.0</td>\n",
       "      <td>0.125959</td>\n",
       "      <td>0.0</td>\n",
       "      <td>0.0</td>\n",
       "    </tr>\n",
       "    <tr>\n",
       "      <th>11</th>\n",
       "      <td>3.890200</td>\n",
       "      <td>4.152428</td>\n",
       "      <td>0.0</td>\n",
       "      <td>0.123738</td>\n",
       "      <td>0.0</td>\n",
       "      <td>0.0</td>\n",
       "    </tr>\n",
       "    <tr>\n",
       "      <th>12</th>\n",
       "      <td>2.433536</td>\n",
       "      <td>3.010303</td>\n",
       "      <td>0.0</td>\n",
       "      <td>0.000000</td>\n",
       "      <td>0.0</td>\n",
       "      <td>0.0</td>\n",
       "    </tr>\n",
       "    <tr>\n",
       "      <th>13</th>\n",
       "      <td>3.257518</td>\n",
       "      <td>3.961272</td>\n",
       "      <td>0.0</td>\n",
       "      <td>0.112052</td>\n",
       "      <td>0.0</td>\n",
       "      <td>0.0</td>\n",
       "    </tr>\n",
       "  </tbody>\n",
       "</table>\n",
       "</div>"
      ],
      "text/plain": [
       "    precipitation_sum (mm)  rain_sum (mm)  river_discharge  intensity_rain  \\\n",
       "0                 2.217372       2.176384              0.0        0.005089   \n",
       "1                 2.169400       1.969851              0.0        0.000000   \n",
       "2                 2.829458       2.930498              0.0        0.000000   \n",
       "3                 2.727690       2.828001              0.0        0.000000   \n",
       "4                 2.880639       2.980734              0.0        0.038753   \n",
       "5                 2.319134       2.257364              0.0        0.007510   \n",
       "6                 2.906512       3.120770              0.0        0.121421   \n",
       "7                 3.838314       4.034000              0.0        0.133911   \n",
       "8                 3.966962       4.150835              0.0        0.134103   \n",
       "9                 3.383754       3.434811              0.0        0.094804   \n",
       "10                4.217390       4.348665              0.0        0.125959   \n",
       "11                3.890200       4.152428              0.0        0.123738   \n",
       "12                2.433536       3.010303              0.0        0.000000   \n",
       "13                3.257518       3.961272              0.0        0.112052   \n",
       "\n",
       "    intensity_flood  intensity_drought  \n",
       "0               0.0                0.0  \n",
       "1               0.0                0.0  \n",
       "2               0.0                0.0  \n",
       "3               0.0                0.0  \n",
       "4               0.0                0.0  \n",
       "5               0.0                0.0  \n",
       "6               0.0                0.0  \n",
       "7               0.0                0.0  \n",
       "8               0.0                0.0  \n",
       "9               0.0                0.0  \n",
       "10              0.0                0.0  \n",
       "11              0.0                0.0  \n",
       "12              0.0                0.0  \n",
       "13              0.0                0.0  "
      ]
     },
     "execution_count": 65,
     "metadata": {},
     "output_type": "execute_result"
    }
   ],
   "source": [
    "predicted_results = new_model.predict(mo_wide_window.test)\n",
    "predicted_array= predicted_results[0]\n",
    "\n",
    "my_array = np.array(predicted_array)\n",
    "\n",
    "df = pd.DataFrame(my_array)\n",
    "\n",
    "\n",
    "df2 = df.rename(columns={0: \"precipitation_sum (mm)\", 1: \"rain_sum (mm)\",2:\"river_discharge\",3:\"intensity_rain\",4:\"intensity_flood\",5:\"intensity_drought\"})\n",
    "\n",
    "df2.head(14)"
   ]
  },
  {
   "cell_type": "code",
   "execution_count": null,
   "metadata": {},
   "outputs": [],
   "source": []
  },
  {
   "cell_type": "code",
   "execution_count": null,
   "metadata": {},
   "outputs": [],
   "source": []
  }
 ],
 "metadata": {
  "colab": {
   "provenance": []
  },
  "kernelspec": {
   "display_name": "Python 3 (ipykernel)",
   "language": "python",
   "name": "python3"
  },
  "language_info": {
   "codemirror_mode": {
    "name": "ipython",
    "version": 3
   },
   "file_extension": ".py",
   "mimetype": "text/x-python",
   "name": "python",
   "nbconvert_exporter": "python",
   "pygments_lexer": "ipython3",
   "version": "3.9.13"
  }
 },
 "nbformat": 4,
 "nbformat_minor": 4
}
