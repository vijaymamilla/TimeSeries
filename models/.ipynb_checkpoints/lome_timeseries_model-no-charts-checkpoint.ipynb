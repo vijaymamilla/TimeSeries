{
 "cells": [
  {
   "cell_type": "code",
   "execution_count": 26,
   "metadata": {
    "colab": {
     "base_uri": "https://localhost:8080/"
    },
    "id": "mOrtghntJXfV",
    "outputId": "969c267c-8919-4417-9d95-fce1ccb658ac"
   },
   "outputs": [
    {
     "name": "stdout",
     "output_type": "stream",
     "text": [
      "2.12.0\n"
     ]
    }
   ],
   "source": [
    "\n",
    "\n",
    "import tensorflow as tf\n",
    "print(tf.__version__)"
   ]
  },
  {
   "cell_type": "code",
   "execution_count": 27,
   "metadata": {
    "id": "8Luzp1Ou2h-N"
   },
   "outputs": [],
   "source": [
    "import datetime\n",
    "\n",
    "import numpy as np\n",
    "import pandas as pd\n",
    "import seaborn as sns\n",
    "import tensorflow as tf\n",
    "import matplotlib.pyplot as plt\n",
    "\n",
    "from tensorflow.keras import Model, Sequential\n",
    "\n",
    "from tensorflow.keras.optimizers import Adam\n",
    "from tensorflow.keras.callbacks import EarlyStopping\n",
    "from tensorflow.keras.losses import MeanSquaredError\n",
    "from tensorflow.keras.metrics import MeanAbsoluteError\n",
    "\n",
    "from tensorflow.keras.layers import Dense, Conv1D, LSTM, Lambda, Reshape, RNN, LSTMCell\n",
    "\n",
    "import warnings\n",
    "warnings.filterwarnings('ignore')"
   ]
  },
  {
   "cell_type": "code",
   "execution_count": null,
   "metadata": {
    "id": "B5Gd1Nt-W-rt"
   },
   "outputs": [],
   "source": []
  },
  {
   "cell_type": "code",
   "execution_count": 28,
   "metadata": {
    "id": "-RbEbk7St3_K"
   },
   "outputs": [],
   "source": [
    "plt.rcParams['figure.figsize'] = (10, 7.5)\n",
    "plt.rcParams['axes.grid'] = False"
   ]
  },
  {
   "cell_type": "code",
   "execution_count": 29,
   "metadata": {
    "id": "sO4j2Z_Pt5gS"
   },
   "outputs": [],
   "source": [
    "tf.random.set_seed(42)\n",
    "np.random.seed(42)"
   ]
  },
  {
   "cell_type": "code",
   "execution_count": 30,
   "metadata": {
    "colab": {
     "base_uri": "https://localhost:8080/"
    },
    "id": "F4fClMlaJPZN",
    "outputId": "affebb92-80bf-4fd8-f955-7e6e53f4781b"
   },
   "outputs": [
    {
     "name": "stdout",
     "output_type": "stream",
     "text": [
      "(3735, 21) (1068, 21) (534, 21)\n"
     ]
    }
   ],
   "source": [
    "train_df = pd.read_csv('data/lome_train1.csv', index_col='date_time',parse_dates=True)\n",
    "val_df = pd.read_csv('data/lome_val1.csv', index_col='date_time',parse_dates=True)\n",
    "test_df = pd.read_csv('data/lome_test1.csv', index_col='date_time',parse_dates=True)\n",
    "\n",
    "print(train_df.shape, val_df.shape, test_df.shape)\n"
   ]
  },
  {
   "cell_type": "code",
   "execution_count": 31,
   "metadata": {
    "id": "cWrMbDVzobn6"
   },
   "outputs": [],
   "source": [
    "#DataWindow Class"
   ]
  },
  {
   "cell_type": "markdown",
   "metadata": {
    "id": "VEwc8zLyubAH"
   },
   "source": []
  },
  {
   "cell_type": "code",
   "execution_count": 32,
   "metadata": {
    "id": "e-1iDKP2sWy_"
   },
   "outputs": [],
   "source": [
    "class DataWindow():\n",
    "    def __init__(self, input_width, label_width, shift,\n",
    "                 train_df=train_df, val_df=val_df, test_df=test_df,\n",
    "                 label_columns=None):\n",
    "\n",
    "        self.train_df = train_df\n",
    "        self.val_df = val_df\n",
    "        self.test_df = test_df\n",
    "\n",
    "        self.label_columns = label_columns\n",
    "        if label_columns is not None:\n",
    "            self.label_columns_indices = {name: i for i, name in enumerate(label_columns)}\n",
    "        self.column_indices = {name: i for i, name in enumerate(train_df.columns)}\n",
    "\n",
    "        self.input_width = input_width\n",
    "        self.label_width = label_width\n",
    "        self.shift = shift\n",
    "\n",
    "        self.total_window_size = input_width + shift\n",
    "\n",
    "        self.input_slice = slice(0, input_width)\n",
    "        self.input_indices = np.arange(self.total_window_size)[self.input_slice]\n",
    "\n",
    "        self.label_start = self.total_window_size - self.label_width\n",
    "        self.labels_slice = slice(self.label_start, None)\n",
    "        self.label_indices = np.arange(self.total_window_size)[self.labels_slice]\n",
    "\n",
    "    def split_to_inputs_labels(self, features):\n",
    "        inputs = features[:, self.input_slice, :]\n",
    "        labels = features[:, self.labels_slice, :]\n",
    "        if self.label_columns is not None:\n",
    "            labels = tf.stack(\n",
    "                [labels[:,:,self.column_indices[name]] for name in self.label_columns],\n",
    "                axis=-1\n",
    "            )\n",
    "        inputs.set_shape([None, self.input_width, None])\n",
    "        labels.set_shape([None, self.label_width, None])\n",
    "\n",
    "        return inputs, labels\n",
    "\n",
    "    def plot(self, model=None, plot_col='rain_sum (mm)', max_subplots=3):\n",
    "        inputs, labels = self.sample_batch\n",
    "\n",
    "        plt.figure(figsize=(12, 8))\n",
    "        plot_col_index = self.column_indices[plot_col]\n",
    "        max_n = min(max_subplots, len(inputs))\n",
    "\n",
    "        for n in range(max_n):\n",
    "            plt.subplot(3, 1, n+1)\n",
    "            plt.ylabel(f'{plot_col} [scaled]')\n",
    "            plt.plot(self.input_indices, inputs[n, :, plot_col_index],\n",
    "                     label='Inputs', marker='.', zorder=-10)\n",
    "\n",
    "            if self.label_columns:\n",
    "              label_col_index = self.label_columns_indices.get(plot_col, None)\n",
    "            else:\n",
    "              label_col_index = plot_col_index\n",
    "\n",
    "            if label_col_index is None:\n",
    "              continue\n",
    "\n",
    "            plt.scatter(self.label_indices, labels[n, :, label_col_index],\n",
    "                        edgecolors='k', marker='s', label='Labels', c='green', s=64)\n",
    "            if model is not None:\n",
    "              predictions = model(inputs)\n",
    "              plt.scatter(self.label_indices, predictions[n, :, label_col_index],\n",
    "                          marker='X', edgecolors='k', label='Predictions',\n",
    "                          c='red', s=64)\n",
    "\n",
    "            if n == 0:\n",
    "              plt.legend()\n",
    "\n",
    "        plt.xlabel('Time (h)')\n",
    "\n",
    "    def make_dataset(self, data):\n",
    "        data = np.array(data, dtype=np.float32)\n",
    "        ds = tf.keras.preprocessing.timeseries_dataset_from_array(\n",
    "            data=data,\n",
    "            targets=None,\n",
    "            sequence_length=self.total_window_size,\n",
    "            sequence_stride=1,\n",
    "            shuffle=True,\n",
    "            batch_size=32\n",
    "        )\n",
    "\n",
    "        ds = ds.map(self.split_to_inputs_labels)\n",
    "        return ds\n",
    "\n",
    "    @property\n",
    "    def train(self):\n",
    "        return self.make_dataset(self.train_df)\n",
    "\n",
    "    @property\n",
    "    def val(self):\n",
    "        return self.make_dataset(self.val_df)\n",
    "\n",
    "    @property\n",
    "    def test(self):\n",
    "        return self.make_dataset(self.test_df)\n",
    "\n",
    "    @property\n",
    "    def sample_batch(self):\n",
    "        result = getattr(self, '_sample_batch', None)\n",
    "        if result is None:\n",
    "            result = next(iter(self.train))\n",
    "            self._sample_batch = result\n",
    "        return result"
   ]
  },
  {
   "cell_type": "code",
   "execution_count": 33,
   "metadata": {
    "id": "bd2UWDFu0MP0"
   },
   "outputs": [],
   "source": [
    "class Baseline(Model):\n",
    "    def __init__(self, label_index=None):\n",
    "        super().__init__()\n",
    "        self.label_index = label_index\n",
    "\n",
    "    def call(self, inputs):\n",
    "        if self.label_index is None:\n",
    "            return inputs\n",
    "\n",
    "        elif isinstance(self.label_index, list):\n",
    "            tensors = []\n",
    "            for index in self.label_index:\n",
    "                result = inputs[:, :, index]\n",
    "                result = result[:, :, tf.newaxis]\n",
    "                tensors.append(result)\n",
    "            return tf.concat(tensors, axis=-1)\n",
    "\n",
    "        result = inputs[:, :, self.label_index]\n",
    "        return result[:,:,tf.newaxis]"
   ]
  },
  {
   "cell_type": "markdown",
   "metadata": {
    "id": "Nl3QzDafu76i"
   },
   "source": [
    "Multi-output baseline model\n"
   ]
  },
  {
   "cell_type": "code",
   "execution_count": 35,
   "metadata": {
    "id": "28cMpCI5u-9T"
   },
   "outputs": [],
   "source": [
    "mo_single_step_window = DataWindow(input_width=1, label_width=1, shift=1, label_columns=['precipitation_sum (mm)','rain_sum (mm)','river_discharge','intensity_rain','intensity_flood','intensity_drought'])\n",
    "mo_wide_window = DataWindow(input_width=14, label_width=14, shift=14, label_columns=['precipitation_sum (mm)','rain_sum (mm)','river_discharge','intensity_rain','intensity_flood','intensity_drought'])"
   ]
  },
  {
   "cell_type": "code",
   "execution_count": 36,
   "metadata": {
    "id": "rbzGdipTzI0A"
   },
   "outputs": [],
   "source": [
    "column_indices = {name: i for i, name in enumerate(train_df.columns)}"
   ]
  },
  {
   "cell_type": "code",
   "execution_count": 37,
   "metadata": {
    "colab": {
     "base_uri": "https://localhost:8080/"
    },
    "id": "FNAy4iegy5Ub",
    "outputId": "1bdf7b1b-8d4a-4147-f5fe-c36c12aa94dc"
   },
   "outputs": [
    {
     "name": "stdout",
     "output_type": "stream",
     "text": [
      "7\n",
      "8\n",
      "17\n",
      "18\n",
      "19\n",
      "20\n"
     ]
    }
   ],
   "source": [
    "print(column_indices['precipitation_sum (mm)'])\n",
    "print(column_indices['rain_sum (mm)'])\n",
    "print(column_indices['river_discharge'])\n",
    "print(column_indices['intensity_rain'])\n",
    "print(column_indices['intensity_flood'])\n",
    "print(column_indices['intensity_drought'])"
   ]
  },
  {
   "cell_type": "code",
   "execution_count": 38,
   "metadata": {
    "colab": {
     "base_uri": "https://localhost:8080/"
    },
    "id": "Ui5igR1Ky6D-",
    "outputId": "84ba501c-b145-46b3-c80d-1abe297ed791"
   },
   "outputs": [],
   "source": [
    "mo_baseline_last = Baseline(label_index=[7,8,17,18,19,20])\n",
    "\n",
    "mo_baseline_last.compile(loss=MeanSquaredError(), metrics=[MeanAbsoluteError()])\n",
    "\n",
    "#mo_val_performance = {}\n",
    "#mo_performance = {}\n",
    "\n",
    "#mo_val_performance['Baseline - Last'] = mo_baseline_last.evaluate(mo_wide_window.val)\n",
    "#mo_performance['Baseline - Last'] = mo_baseline_last.evaluate(mo_wide_window.test, verbose=0)"
   ]
  },
  {
   "cell_type": "code",
   "execution_count": 45,
   "metadata": {
    "colab": {
     "base_uri": "https://localhost:8080/"
    },
    "id": "Ld48v3_g3hqd",
    "outputId": "151d4aa5-c4fd-4180-b8a5-899f4fd56e68"
   },
   "outputs": [
    {
     "name": "stdout",
     "output_type": "stream",
     "text": [
      "1.2077831029891968\n"
     ]
    }
   ],
   "source": [
    "print(mo_performance['Baseline - Last'][1])"
   ]
  },
  {
   "cell_type": "markdown",
   "metadata": {
    "id": "tjXkluJu35p3"
   },
   "source": [
    "Implementing a deep neural network as a multi-output model"
   ]
  },
  {
   "cell_type": "code",
   "execution_count": 46,
   "metadata": {
    "id": "FnltKLWg40mK"
   },
   "outputs": [],
   "source": [
    "def compile_and_fit(model, window, patience=3, max_epochs=50):\n",
    "    early_stopping = EarlyStopping(monitor='val_loss',\n",
    "                                   patience=patience,\n",
    "                                   mode='min')\n",
    "\n",
    "    model.compile(loss=MeanSquaredError(),\n",
    "                  optimizer=Adam(),\n",
    "                  metrics=[MeanAbsoluteError()])\n",
    "\n",
    "    history = model.fit(window.train,\n",
    "                       epochs=max_epochs,\n",
    "                       validation_data=window.val,\n",
    "                       callbacks=[early_stopping])\n",
    "\n",
    "    return history"
   ]
  },
  {
   "cell_type": "code",
   "execution_count": 47,
   "metadata": {
    "colab": {
     "base_uri": "https://localhost:8080/"
    },
    "id": "On2uYjXi3q70",
    "outputId": "ae91beba-b5a9-4c40-bb1e-1c369f816980"
   },
   "outputs": [
    {
     "name": "stdout",
     "output_type": "stream",
     "text": [
      "Epoch 1/50\n"
     ]
    },
    {
     "name": "stderr",
     "output_type": "stream",
     "text": [
      "2023-09-23 13:51:25.049617: I tensorflow/core/common_runtime/executor.cc:1197] [/device:CPU:0] (DEBUG INFO) Executor start aborting (this does not indicate an error and you can ignore this message): INVALID_ARGUMENT: You must feed a value for placeholder tensor 'Placeholder/_0' with dtype float and shape [3735,21]\n",
      "\t [[{{node Placeholder/_0}}]]\n",
      "2023-09-23 13:51:25.050149: I tensorflow/core/common_runtime/executor.cc:1197] [/device:CPU:0] (DEBUG INFO) Executor start aborting (this does not indicate an error and you can ignore this message): INVALID_ARGUMENT: You must feed a value for placeholder tensor 'Placeholder/_8' with dtype int32 and shape [3734]\n",
      "\t [[{{node Placeholder/_8}}]]\n"
     ]
    },
    {
     "name": "stdout",
     "output_type": "stream",
     "text": [
      " 90/117 [======================>.......] - ETA: 0s - loss: 50.5897 - mean_absolute_error: 3.6879 "
     ]
    },
    {
     "name": "stderr",
     "output_type": "stream",
     "text": [
      "2023-09-23 13:51:25.969483: I tensorflow/core/common_runtime/executor.cc:1197] [/device:CPU:0] (DEBUG INFO) Executor start aborting (this does not indicate an error and you can ignore this message): INVALID_ARGUMENT: You must feed a value for placeholder tensor 'Placeholder/_14' with dtype int32\n",
      "\t [[{{node Placeholder/_14}}]]\n",
      "2023-09-23 13:51:25.970039: I tensorflow/core/common_runtime/executor.cc:1197] [/device:CPU:0] (DEBUG INFO) Executor start aborting (this does not indicate an error and you can ignore this message): INVALID_ARGUMENT: You must feed a value for placeholder tensor 'Placeholder/_14' with dtype int32\n",
      "\t [[{{node Placeholder/_14}}]]\n"
     ]
    },
    {
     "name": "stdout",
     "output_type": "stream",
     "text": [
      "117/117 [==============================] - 1s 4ms/step - loss: 42.5637 - mean_absolute_error: 3.1850 - val_loss: 17.7039 - val_mean_absolute_error: 1.5098\n",
      "Epoch 2/50\n",
      "117/117 [==============================] - 0s 3ms/step - loss: 10.7508 - mean_absolute_error: 1.1902 - val_loss: 16.7886 - val_mean_absolute_error: 1.2096\n",
      "Epoch 3/50\n",
      "117/117 [==============================] - 0s 2ms/step - loss: 10.4140 - mean_absolute_error: 1.0940 - val_loss: 16.4081 - val_mean_absolute_error: 1.2032\n",
      "Epoch 4/50\n",
      "117/117 [==============================] - 0s 2ms/step - loss: 10.4267 - mean_absolute_error: 1.1134 - val_loss: 16.4599 - val_mean_absolute_error: 1.3454\n",
      "Epoch 5/50\n",
      "117/117 [==============================] - 0s 2ms/step - loss: 10.3501 - mean_absolute_error: 1.0984 - val_loss: 16.2422 - val_mean_absolute_error: 1.1419\n",
      "Epoch 6/50\n",
      "117/117 [==============================] - 0s 2ms/step - loss: 10.1857 - mean_absolute_error: 1.0351 - val_loss: 16.1076 - val_mean_absolute_error: 1.1733\n",
      "Epoch 7/50\n",
      "117/117 [==============================] - 0s 2ms/step - loss: 10.2588 - mean_absolute_error: 1.0706 - val_loss: 16.1121 - val_mean_absolute_error: 1.0848\n",
      "Epoch 8/50\n",
      "117/117 [==============================] - 0s 3ms/step - loss: 10.1828 - mean_absolute_error: 1.0372 - val_loss: 16.1153 - val_mean_absolute_error: 1.2600\n",
      "Epoch 9/50\n",
      "117/117 [==============================] - 0s 3ms/step - loss: 10.2107 - mean_absolute_error: 1.0575 - val_loss: 16.0322 - val_mean_absolute_error: 1.1880\n",
      "Epoch 10/50\n",
      "117/117 [==============================] - 0s 3ms/step - loss: 10.1610 - mean_absolute_error: 1.0412 - val_loss: 15.9701 - val_mean_absolute_error: 1.2173\n",
      "Epoch 11/50\n",
      "117/117 [==============================] - 0s 3ms/step - loss: 10.1407 - mean_absolute_error: 1.0382 - val_loss: 16.0442 - val_mean_absolute_error: 1.2205\n",
      "Epoch 12/50\n",
      "117/117 [==============================] - 0s 3ms/step - loss: 10.1514 - mean_absolute_error: 1.0268 - val_loss: 16.1393 - val_mean_absolute_error: 1.3467\n",
      "Epoch 13/50\n",
      "117/117 [==============================] - 0s 3ms/step - loss: 10.1332 - mean_absolute_error: 1.0254 - val_loss: 16.1567 - val_mean_absolute_error: 1.3019\n"
     ]
    }
   ],
   "source": [
    "mo_dense = Sequential([\n",
    "    Dense(units=64, activation='relu'),\n",
    "    Dense(units=64, activation='relu'),\n",
    "    Dense(units=6)\n",
    "])\n",
    "\n",
    "history = compile_and_fit(mo_dense, mo_single_step_window)\n",
    "\n",
    "#mo_val_performance['Dense'] = mo_dense.evaluate(mo_single_step_window.val)\n",
    "#mo_performance['Dense'] = mo_dense.evaluate(mo_single_step_window.test, verbose=0)"
   ]
  },
  {
   "cell_type": "markdown",
   "metadata": {
    "id": "r--e4DKB8TOx"
   },
   "source": [
    "**LSTM**"
   ]
  },
  {
   "cell_type": "code",
   "execution_count": 48,
   "metadata": {
    "colab": {
     "base_uri": "https://localhost:8080/"
    },
    "id": "HeX1hwEH8W8R",
    "outputId": "098f1f48-6a4c-4fbc-949d-ae7ffaae454c"
   },
   "outputs": [
    {
     "name": "stdout",
     "output_type": "stream",
     "text": [
      "Epoch 1/50\n"
     ]
    },
    {
     "name": "stderr",
     "output_type": "stream",
     "text": [
      "2023-09-23 13:51:49.862952: I tensorflow/core/common_runtime/executor.cc:1197] [/device:CPU:0] (DEBUG INFO) Executor start aborting (this does not indicate an error and you can ignore this message): INVALID_ARGUMENT: You must feed a value for placeholder tensor 'Placeholder/_0' with dtype float and shape [3735,21]\n",
      "\t [[{{node Placeholder/_0}}]]\n",
      "2023-09-23 13:51:49.863543: I tensorflow/core/common_runtime/executor.cc:1197] [/device:CPU:0] (DEBUG INFO) Executor start aborting (this does not indicate an error and you can ignore this message): INVALID_ARGUMENT: You must feed a value for placeholder tensor 'Placeholder/_13' with dtype int32\n",
      "\t [[{{node Placeholder/_13}}]]\n",
      "2023-09-23 13:51:50.102906: I tensorflow/core/common_runtime/executor.cc:1197] [/device:CPU:0] (DEBUG INFO) Executor start aborting (this does not indicate an error and you can ignore this message): INVALID_ARGUMENT: You must feed a value for placeholder tensor 'gradients/split_2_grad/concat/split_2/split_dim' with dtype int32\n",
      "\t [[{{node gradients/split_2_grad/concat/split_2/split_dim}}]]\n",
      "2023-09-23 13:51:50.104889: I tensorflow/core/common_runtime/executor.cc:1197] [/device:CPU:0] (DEBUG INFO) Executor start aborting (this does not indicate an error and you can ignore this message): INVALID_ARGUMENT: You must feed a value for placeholder tensor 'gradients/split_grad/concat/split/split_dim' with dtype int32\n",
      "\t [[{{node gradients/split_grad/concat/split/split_dim}}]]\n",
      "2023-09-23 13:51:50.105935: I tensorflow/core/common_runtime/executor.cc:1197] [/device:CPU:0] (DEBUG INFO) Executor start aborting (this does not indicate an error and you can ignore this message): INVALID_ARGUMENT: You must feed a value for placeholder tensor 'gradients/split_1_grad/concat/split_1/split_dim' with dtype int32\n",
      "\t [[{{node gradients/split_1_grad/concat/split_1/split_dim}}]]\n",
      "2023-09-23 13:51:50.313682: I tensorflow/core/common_runtime/executor.cc:1197] [/device:CPU:0] (DEBUG INFO) Executor start aborting (this does not indicate an error and you can ignore this message): INVALID_ARGUMENT: You must feed a value for placeholder tensor 'gradients/split_2_grad/concat/split_2/split_dim' with dtype int32\n",
      "\t [[{{node gradients/split_2_grad/concat/split_2/split_dim}}]]\n",
      "2023-09-23 13:51:50.315792: I tensorflow/core/common_runtime/executor.cc:1197] [/device:CPU:0] (DEBUG INFO) Executor start aborting (this does not indicate an error and you can ignore this message): INVALID_ARGUMENT: You must feed a value for placeholder tensor 'gradients/split_grad/concat/split/split_dim' with dtype int32\n",
      "\t [[{{node gradients/split_grad/concat/split/split_dim}}]]\n",
      "2023-09-23 13:51:50.317149: I tensorflow/core/common_runtime/executor.cc:1197] [/device:CPU:0] (DEBUG INFO) Executor start aborting (this does not indicate an error and you can ignore this message): INVALID_ARGUMENT: You must feed a value for placeholder tensor 'gradients/split_1_grad/concat/split_1/split_dim' with dtype int32\n",
      "\t [[{{node gradients/split_1_grad/concat/split_1/split_dim}}]]\n",
      "2023-09-23 13:51:50.890848: I tensorflow/core/common_runtime/executor.cc:1197] [/device:CPU:0] (DEBUG INFO) Executor start aborting (this does not indicate an error and you can ignore this message): INVALID_ARGUMENT: You must feed a value for placeholder tensor 'gradients/split_2_grad/concat/split_2/split_dim' with dtype int32\n",
      "\t [[{{node gradients/split_2_grad/concat/split_2/split_dim}}]]\n",
      "2023-09-23 13:51:50.892890: I tensorflow/core/common_runtime/executor.cc:1197] [/device:CPU:0] (DEBUG INFO) Executor start aborting (this does not indicate an error and you can ignore this message): INVALID_ARGUMENT: You must feed a value for placeholder tensor 'gradients/split_grad/concat/split/split_dim' with dtype int32\n",
      "\t [[{{node gradients/split_grad/concat/split/split_dim}}]]\n",
      "2023-09-23 13:51:50.894289: I tensorflow/core/common_runtime/executor.cc:1197] [/device:CPU:0] (DEBUG INFO) Executor start aborting (this does not indicate an error and you can ignore this message): INVALID_ARGUMENT: You must feed a value for placeholder tensor 'gradients/split_1_grad/concat/split_1/split_dim' with dtype int32\n",
      "\t [[{{node gradients/split_1_grad/concat/split_1/split_dim}}]]\n"
     ]
    },
    {
     "name": "stdout",
     "output_type": "stream",
     "text": [
      "106/116 [==========================>...] - ETA: 0s - loss: 12.3915 - mean_absolute_error: 0.9674"
     ]
    },
    {
     "name": "stderr",
     "output_type": "stream",
     "text": [
      "2023-09-23 13:51:52.530584: I tensorflow/core/common_runtime/executor.cc:1197] [/device:CPU:0] (DEBUG INFO) Executor start aborting (this does not indicate an error and you can ignore this message): INVALID_ARGUMENT: You must feed a value for placeholder tensor 'Placeholder/_13' with dtype int32\n",
      "\t [[{{node Placeholder/_13}}]]\n",
      "2023-09-23 13:51:52.531162: I tensorflow/core/common_runtime/executor.cc:1197] [/device:CPU:0] (DEBUG INFO) Executor start aborting (this does not indicate an error and you can ignore this message): INVALID_ARGUMENT: You must feed a value for placeholder tensor 'Placeholder/_0' with dtype float and shape [1068,21]\n",
      "\t [[{{node Placeholder/_0}}]]\n",
      "2023-09-23 13:51:52.753504: I tensorflow/core/common_runtime/executor.cc:1197] [/device:CPU:0] (DEBUG INFO) Executor start aborting (this does not indicate an error and you can ignore this message): INVALID_ARGUMENT: You must feed a value for placeholder tensor 'gradients/split_2_grad/concat/split_2/split_dim' with dtype int32\n",
      "\t [[{{node gradients/split_2_grad/concat/split_2/split_dim}}]]\n",
      "2023-09-23 13:51:52.755517: I tensorflow/core/common_runtime/executor.cc:1197] [/device:CPU:0] (DEBUG INFO) Executor start aborting (this does not indicate an error and you can ignore this message): INVALID_ARGUMENT: You must feed a value for placeholder tensor 'gradients/split_grad/concat/split/split_dim' with dtype int32\n",
      "\t [[{{node gradients/split_grad/concat/split/split_dim}}]]\n",
      "2023-09-23 13:51:52.756832: I tensorflow/core/common_runtime/executor.cc:1197] [/device:CPU:0] (DEBUG INFO) Executor start aborting (this does not indicate an error and you can ignore this message): INVALID_ARGUMENT: You must feed a value for placeholder tensor 'gradients/split_1_grad/concat/split_1/split_dim' with dtype int32\n",
      "\t [[{{node gradients/split_1_grad/concat/split_1/split_dim}}]]\n"
     ]
    },
    {
     "name": "stdout",
     "output_type": "stream",
     "text": [
      "116/116 [==============================] - 3s 10ms/step - loss: 12.1451 - mean_absolute_error: 0.9656 - val_loss: 18.7245 - val_mean_absolute_error: 1.0922\n",
      "Epoch 2/50\n",
      "116/116 [==============================] - 1s 7ms/step - loss: 11.3737 - mean_absolute_error: 0.9585 - val_loss: 18.1978 - val_mean_absolute_error: 1.1148\n",
      "Epoch 3/50\n",
      "116/116 [==============================] - 1s 7ms/step - loss: 11.0154 - mean_absolute_error: 1.0209 - val_loss: 17.6508 - val_mean_absolute_error: 1.1014\n",
      "Epoch 4/50\n",
      "116/116 [==============================] - 1s 7ms/step - loss: 10.8681 - mean_absolute_error: 0.9996 - val_loss: 17.4811 - val_mean_absolute_error: 1.1474\n",
      "Epoch 5/50\n",
      "116/116 [==============================] - 1s 7ms/step - loss: 10.8123 - mean_absolute_error: 0.9962 - val_loss: 17.4540 - val_mean_absolute_error: 1.1307\n",
      "Epoch 6/50\n",
      "116/116 [==============================] - 1s 7ms/step - loss: 10.7728 - mean_absolute_error: 0.9942 - val_loss: 17.3538 - val_mean_absolute_error: 1.1315\n",
      "Epoch 7/50\n",
      "116/116 [==============================] - 1s 6ms/step - loss: 10.7381 - mean_absolute_error: 0.9926 - val_loss: 17.3040 - val_mean_absolute_error: 1.1139\n",
      "Epoch 8/50\n",
      "116/116 [==============================] - 1s 7ms/step - loss: 10.7245 - mean_absolute_error: 0.9902 - val_loss: 17.2487 - val_mean_absolute_error: 1.1416\n",
      "Epoch 9/50\n",
      "116/116 [==============================] - 1s 8ms/step - loss: 10.6998 - mean_absolute_error: 0.9834 - val_loss: 17.2431 - val_mean_absolute_error: 1.1330\n",
      "Epoch 10/50\n",
      "116/116 [==============================] - 1s 7ms/step - loss: 10.6738 - mean_absolute_error: 0.9759 - val_loss: 17.1885 - val_mean_absolute_error: 1.1141\n",
      "Epoch 11/50\n",
      "116/116 [==============================] - 1s 7ms/step - loss: 10.6627 - mean_absolute_error: 0.9719 - val_loss: 17.2206 - val_mean_absolute_error: 1.1170\n",
      "Epoch 12/50\n",
      "116/116 [==============================] - 1s 7ms/step - loss: 10.6482 - mean_absolute_error: 0.9718 - val_loss: 17.3847 - val_mean_absolute_error: 1.2193\n",
      "Epoch 13/50\n",
      "116/116 [==============================] - 1s 7ms/step - loss: 10.6572 - mean_absolute_error: 0.9717 - val_loss: 17.1603 - val_mean_absolute_error: 1.1027\n",
      "Epoch 14/50\n",
      "116/116 [==============================] - 1s 7ms/step - loss: 10.6134 - mean_absolute_error: 0.9616 - val_loss: 17.1771 - val_mean_absolute_error: 1.1192\n",
      "Epoch 15/50\n",
      "116/116 [==============================] - 1s 7ms/step - loss: 10.6439 - mean_absolute_error: 0.9703 - val_loss: 17.2038 - val_mean_absolute_error: 1.0831\n",
      "Epoch 16/50\n",
      "116/116 [==============================] - 1s 8ms/step - loss: 10.5922 - mean_absolute_error: 0.9581 - val_loss: 17.1749 - val_mean_absolute_error: 1.1027\n"
     ]
    }
   ],
   "source": [
    "mo_lstm_model = Sequential([\n",
    "    LSTM(32, return_sequences=True),\n",
    "    Dense(units = 6)\n",
    "])\n",
    "\n",
    "history = compile_and_fit(mo_lstm_model, mo_wide_window)\n",
    "\n",
    "#mo_val_performance = {}\n",
    "#mo_performance = {}\n",
    "\n",
    "#mo_val_performance['LSTM'] = mo_lstm_model.evaluate(mo_wide_window.val)\n",
    "#mo_performance['LSTM'] = mo_lstm_model.evaluate(mo_wide_window.test, verbose=0)"
   ]
  },
  {
   "cell_type": "code",
   "execution_count": 65,
   "metadata": {},
   "outputs": [
    {
     "name": "stderr",
     "output_type": "stream",
     "text": [
      "2023-09-22 11:03:21.488866: I tensorflow/core/common_runtime/executor.cc:1197] [/device:CPU:0] (DEBUG INFO) Executor start aborting (this does not indicate an error and you can ignore this message): INVALID_ARGUMENT: You must feed a value for placeholder tensor 'Placeholder/_14' with dtype int32\n",
      "\t [[{{node Placeholder/_14}}]]\n",
      "2023-09-22 11:03:21.489799: I tensorflow/core/common_runtime/executor.cc:1197] [/device:CPU:0] (DEBUG INFO) Executor start aborting (this does not indicate an error and you can ignore this message): INVALID_ARGUMENT: You must feed a value for placeholder tensor 'Placeholder/_14' with dtype int32\n",
      "\t [[{{node Placeholder/_14}}]]\n"
     ]
    },
    {
     "name": "stdout",
     "output_type": "stream",
     "text": [
      "17/17 [==============================] - 0s 1ms/step\n"
     ]
    },
    {
     "data": {
      "text/html": [
       "<div>\n",
       "<style scoped>\n",
       "    .dataframe tbody tr th:only-of-type {\n",
       "        vertical-align: middle;\n",
       "    }\n",
       "\n",
       "    .dataframe tbody tr th {\n",
       "        vertical-align: top;\n",
       "    }\n",
       "\n",
       "    .dataframe thead th {\n",
       "        text-align: right;\n",
       "    }\n",
       "</style>\n",
       "<table border=\"1\" class=\"dataframe\">\n",
       "  <thead>\n",
       "    <tr style=\"text-align: right;\">\n",
       "      <th></th>\n",
       "      <th>precipitation_sum (mm)</th>\n",
       "      <th>rain_sum (mm)</th>\n",
       "      <th>river_discharge</th>\n",
       "      <th>intensity_rain</th>\n",
       "      <th>intensity_flood</th>\n",
       "      <th>intensity_drought</th>\n",
       "    </tr>\n",
       "  </thead>\n",
       "  <tbody>\n",
       "    <tr>\n",
       "      <th>0</th>\n",
       "      <td>0.2</td>\n",
       "      <td>0.2</td>\n",
       "      <td>0.06</td>\n",
       "      <td>0.0</td>\n",
       "      <td>0.0</td>\n",
       "      <td>0.0</td>\n",
       "    </tr>\n",
       "    <tr>\n",
       "      <th>1</th>\n",
       "      <td>0.4</td>\n",
       "      <td>0.4</td>\n",
       "      <td>0.06</td>\n",
       "      <td>0.0</td>\n",
       "      <td>0.0</td>\n",
       "      <td>0.0</td>\n",
       "    </tr>\n",
       "    <tr>\n",
       "      <th>2</th>\n",
       "      <td>0.7</td>\n",
       "      <td>0.7</td>\n",
       "      <td>0.06</td>\n",
       "      <td>0.0</td>\n",
       "      <td>0.0</td>\n",
       "      <td>0.0</td>\n",
       "    </tr>\n",
       "    <tr>\n",
       "      <th>3</th>\n",
       "      <td>0.5</td>\n",
       "      <td>0.5</td>\n",
       "      <td>0.06</td>\n",
       "      <td>0.0</td>\n",
       "      <td>0.0</td>\n",
       "      <td>0.0</td>\n",
       "    </tr>\n",
       "    <tr>\n",
       "      <th>4</th>\n",
       "      <td>0.2</td>\n",
       "      <td>0.2</td>\n",
       "      <td>0.06</td>\n",
       "      <td>0.0</td>\n",
       "      <td>0.0</td>\n",
       "      <td>0.0</td>\n",
       "    </tr>\n",
       "    <tr>\n",
       "      <th>5</th>\n",
       "      <td>0.3</td>\n",
       "      <td>0.3</td>\n",
       "      <td>0.06</td>\n",
       "      <td>1.0</td>\n",
       "      <td>0.0</td>\n",
       "      <td>1.0</td>\n",
       "    </tr>\n",
       "    <tr>\n",
       "      <th>6</th>\n",
       "      <td>0.4</td>\n",
       "      <td>0.4</td>\n",
       "      <td>0.06</td>\n",
       "      <td>0.0</td>\n",
       "      <td>0.0</td>\n",
       "      <td>1.0</td>\n",
       "    </tr>\n",
       "    <tr>\n",
       "      <th>7</th>\n",
       "      <td>0.5</td>\n",
       "      <td>0.5</td>\n",
       "      <td>0.06</td>\n",
       "      <td>0.0</td>\n",
       "      <td>0.0</td>\n",
       "      <td>0.0</td>\n",
       "    </tr>\n",
       "    <tr>\n",
       "      <th>8</th>\n",
       "      <td>1.0</td>\n",
       "      <td>1.0</td>\n",
       "      <td>0.06</td>\n",
       "      <td>0.0</td>\n",
       "      <td>0.0</td>\n",
       "      <td>0.0</td>\n",
       "    </tr>\n",
       "    <tr>\n",
       "      <th>9</th>\n",
       "      <td>1.5</td>\n",
       "      <td>1.5</td>\n",
       "      <td>0.06</td>\n",
       "      <td>0.0</td>\n",
       "      <td>0.0</td>\n",
       "      <td>0.0</td>\n",
       "    </tr>\n",
       "    <tr>\n",
       "      <th>10</th>\n",
       "      <td>1.7</td>\n",
       "      <td>1.7</td>\n",
       "      <td>0.06</td>\n",
       "      <td>0.0</td>\n",
       "      <td>0.0</td>\n",
       "      <td>0.0</td>\n",
       "    </tr>\n",
       "    <tr>\n",
       "      <th>11</th>\n",
       "      <td>1.3</td>\n",
       "      <td>1.3</td>\n",
       "      <td>0.06</td>\n",
       "      <td>0.0</td>\n",
       "      <td>0.0</td>\n",
       "      <td>0.0</td>\n",
       "    </tr>\n",
       "    <tr>\n",
       "      <th>12</th>\n",
       "      <td>2.5</td>\n",
       "      <td>2.5</td>\n",
       "      <td>0.06</td>\n",
       "      <td>0.0</td>\n",
       "      <td>0.0</td>\n",
       "      <td>0.0</td>\n",
       "    </tr>\n",
       "    <tr>\n",
       "      <th>13</th>\n",
       "      <td>1.3</td>\n",
       "      <td>1.3</td>\n",
       "      <td>0.06</td>\n",
       "      <td>0.0</td>\n",
       "      <td>0.0</td>\n",
       "      <td>0.0</td>\n",
       "    </tr>\n",
       "  </tbody>\n",
       "</table>\n",
       "</div>"
      ],
      "text/plain": [
       "    precipitation_sum (mm)  rain_sum (mm)  river_discharge  intensity_rain  \\\n",
       "0                      0.2            0.2             0.06             0.0   \n",
       "1                      0.4            0.4             0.06             0.0   \n",
       "2                      0.7            0.7             0.06             0.0   \n",
       "3                      0.5            0.5             0.06             0.0   \n",
       "4                      0.2            0.2             0.06             0.0   \n",
       "5                      0.3            0.3             0.06             1.0   \n",
       "6                      0.4            0.4             0.06             0.0   \n",
       "7                      0.5            0.5             0.06             0.0   \n",
       "8                      1.0            1.0             0.06             0.0   \n",
       "9                      1.5            1.5             0.06             0.0   \n",
       "10                     1.7            1.7             0.06             0.0   \n",
       "11                     1.3            1.3             0.06             0.0   \n",
       "12                     2.5            2.5             0.06             0.0   \n",
       "13                     1.3            1.3             0.06             0.0   \n",
       "\n",
       "    intensity_flood  intensity_drought  \n",
       "0               0.0                0.0  \n",
       "1               0.0                0.0  \n",
       "2               0.0                0.0  \n",
       "3               0.0                0.0  \n",
       "4               0.0                0.0  \n",
       "5               0.0                1.0  \n",
       "6               0.0                1.0  \n",
       "7               0.0                0.0  \n",
       "8               0.0                0.0  \n",
       "9               0.0                0.0  \n",
       "10              0.0                0.0  \n",
       "11              0.0                0.0  \n",
       "12              0.0                0.0  \n",
       "13              0.0                0.0  "
      ]
     },
     "execution_count": 65,
     "metadata": {},
     "output_type": "execute_result"
    }
   ],
   "source": [
    "predicted_results = mo_baseline_last.predict(mo_wide_window.test)\n",
    "predicted_array= predicted_results[0]\n",
    "\n",
    "my_array = np.array(predicted_array)\n",
    "\n",
    "df = pd.DataFrame(my_array)\n",
    "\n",
    "\n",
    "df2 = df.rename(columns={0: \"precipitation_sum (mm)\", 1: \"rain_sum (mm)\",2:\"river_discharge\",3:\"intensity_rain\",4:\"intensity_flood\",5:\"intensity_drought\"})\n",
    "\n",
    "df2.head(14)"
   ]
  },
  {
   "cell_type": "code",
   "execution_count": null,
   "metadata": {},
   "outputs": [],
   "source": []
  },
  {
   "cell_type": "code",
   "execution_count": null,
   "metadata": {},
   "outputs": [],
   "source": []
  }
 ],
 "metadata": {
  "colab": {
   "provenance": []
  },
  "kernelspec": {
   "display_name": "Python 3 (ipykernel)",
   "language": "python",
   "name": "python3"
  },
  "language_info": {
   "codemirror_mode": {
    "name": "ipython",
    "version": 3
   },
   "file_extension": ".py",
   "mimetype": "text/x-python",
   "name": "python",
   "nbconvert_exporter": "python",
   "pygments_lexer": "ipython3",
   "version": "3.9.13"
  }
 },
 "nbformat": 4,
 "nbformat_minor": 4
}
