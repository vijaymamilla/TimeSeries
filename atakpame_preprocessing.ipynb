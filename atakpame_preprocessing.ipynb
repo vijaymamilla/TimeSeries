{
 "cells": [
  {
   "cell_type": "code",
   "execution_count": 28,
   "id": "0a7a9aad-e9aa-40f7-90fe-3d2c2896299a",
   "metadata": {},
   "outputs": [],
   "source": [
    "import pandas as pd\n",
    "import numpy as np\n",
    "import matplotlib.pyplot as plt\n",
    "\n",
    "import warnings\n",
    "warnings.filterwarnings('ignore')\n",
    "\n",
    "%matplotlib inline"
   ]
  },
  {
   "cell_type": "code",
   "execution_count": 6,
   "id": "309dee98-92ce-4f09-8b64-3e1885f6a3d7",
   "metadata": {},
   "outputs": [],
   "source": [
    "data = pd.read_csv(\"weather_atakpame.csv\",index_col=['date_time'])"
   ]
  },
  {
   "cell_type": "code",
   "execution_count": 7,
   "id": "11b5c457-bcb5-4539-a1ee-a7b38b0e0594",
   "metadata": {},
   "outputs": [
    {
     "name": "stdout",
     "output_type": "stream",
     "text": [
      "<class 'pandas.core.frame.DataFrame'>\n",
      "Index: 5337 entries, 2009-01-01 to 2023-08-12\n",
      "Data columns (total 22 columns):\n",
      " #   Column                           Non-Null Count  Dtype  \n",
      "---  ------                           --------------  -----  \n",
      " 0   weathercode (wmo code)           5335 non-null   float64\n",
      " 1   temperature_2m_max (°C)          5335 non-null   float64\n",
      " 2   temperature_2m_min (°C)          5335 non-null   float64\n",
      " 3   temperature_2m_mean (°C)         5335 non-null   float64\n",
      " 4   apparent_temperature_max (°C)    5335 non-null   float64\n",
      " 5   apparent_temperature_min (°C)    5335 non-null   float64\n",
      " 6   apparent_temperature_mean (°C)   5335 non-null   float64\n",
      " 7   precipitation_sum (mm)           5335 non-null   float64\n",
      " 8   rain_sum (mm)                    5335 non-null   float64\n",
      " 9   precipitation_hours (h)          5337 non-null   float64\n",
      " 10  windspeed_10m_max (km/h)         5335 non-null   float64\n",
      " 11  windgusts_10m_max (km/h)         5335 non-null   float64\n",
      " 12  winddirection_10m_dominant (°)   5335 non-null   float64\n",
      " 13  et0_fao_evapotranspiration (mm)  5335 non-null   float64\n",
      " 14  latitude                         5337 non-null   float64\n",
      " 15  longitude                        5337 non-null   float64\n",
      " 16  elevation                        5337 non-null   float64\n",
      " 17  river_discharge                  5337 non-null   float64\n",
      " 18  city                             5337 non-null   object \n",
      " 19  intensity_rain                   5337 non-null   int64  \n",
      " 20  intensity_flood                  5337 non-null   int64  \n",
      " 21  intensity_drought                5337 non-null   int64  \n",
      "dtypes: float64(18), int64(3), object(1)\n",
      "memory usage: 959.0+ KB\n"
     ]
    }
   ],
   "source": [
    "data.info()"
   ]
  },
  {
   "cell_type": "code",
   "execution_count": 8,
   "id": "00e791e6-7a61-48df-b508-2d371baf9b81",
   "metadata": {},
   "outputs": [
    {
     "data": {
      "text/plain": [
       "Index(['2009-01-01', '2009-01-02', '2009-01-03', '2009-01-04', '2009-01-05',\n",
       "       '2009-01-06', '2009-01-07', '2009-01-08', '2009-01-09', '2009-01-10',\n",
       "       ...\n",
       "       '2023-08-03', '2023-08-04', '2023-08-05', '2023-08-06', '2023-08-07',\n",
       "       '2023-08-08', '2023-08-09', '2023-08-10', '2023-08-11', '2023-08-12'],\n",
       "      dtype='object', name='date_time', length=5337)"
      ]
     },
     "execution_count": 8,
     "metadata": {},
     "output_type": "execute_result"
    }
   ],
   "source": [
    "data.index"
   ]
  },
  {
   "cell_type": "code",
   "execution_count": 9,
   "id": "9db9b949-9236-4b2e-8671-37b386de2ce1",
   "metadata": {},
   "outputs": [
    {
     "data": {
      "text/plain": [
       "('2009-01-01', '2023-08-12')"
      ]
     },
     "execution_count": 9,
     "metadata": {},
     "output_type": "execute_result"
    }
   ],
   "source": [
    "data.index.min(), data.index.max()"
   ]
  },
  {
   "cell_type": "code",
   "execution_count": 10,
   "id": "b2dd968d-b2ae-4940-81d6-76aa442c97ac",
   "metadata": {},
   "outputs": [
    {
     "data": {
      "text/plain": [
       "weathercode (wmo code)             2\n",
       "temperature_2m_max (°C)            2\n",
       "temperature_2m_min (°C)            2\n",
       "temperature_2m_mean (°C)           2\n",
       "apparent_temperature_max (°C)      2\n",
       "apparent_temperature_min (°C)      2\n",
       "apparent_temperature_mean (°C)     2\n",
       "precipitation_sum (mm)             2\n",
       "rain_sum (mm)                      2\n",
       "precipitation_hours (h)            0\n",
       "windspeed_10m_max (km/h)           2\n",
       "windgusts_10m_max (km/h)           2\n",
       "winddirection_10m_dominant (°)     2\n",
       "et0_fao_evapotranspiration (mm)    2\n",
       "latitude                           0\n",
       "longitude                          0\n",
       "elevation                          0\n",
       "river_discharge                    0\n",
       "city                               0\n",
       "intensity_rain                     0\n",
       "intensity_flood                    0\n",
       "intensity_drought                  0\n",
       "dtype: int64"
      ]
     },
     "execution_count": 10,
     "metadata": {},
     "output_type": "execute_result"
    }
   ],
   "source": [
    "data.isnull().sum()"
   ]
  },
  {
   "cell_type": "code",
   "execution_count": 11,
   "id": "9c7ae22f-4299-45c8-a54b-b3dcf5637bab",
   "metadata": {},
   "outputs": [],
   "source": [
    "data.drop(['city'],axis=1,inplace=True)"
   ]
  },
  {
   "cell_type": "code",
   "execution_count": 12,
   "id": "71b744f9-1426-44aa-bd58-de9cdb6ca749",
   "metadata": {},
   "outputs": [
    {
     "data": {
      "text/html": [
       "<div>\n",
       "<style scoped>\n",
       "    .dataframe tbody tr th:only-of-type {\n",
       "        vertical-align: middle;\n",
       "    }\n",
       "\n",
       "    .dataframe tbody tr th {\n",
       "        vertical-align: top;\n",
       "    }\n",
       "\n",
       "    .dataframe thead th {\n",
       "        text-align: right;\n",
       "    }\n",
       "</style>\n",
       "<table border=\"1\" class=\"dataframe\">\n",
       "  <thead>\n",
       "    <tr style=\"text-align: right;\">\n",
       "      <th></th>\n",
       "      <th>weathercode (wmo code)</th>\n",
       "      <th>temperature_2m_max (°C)</th>\n",
       "      <th>temperature_2m_min (°C)</th>\n",
       "      <th>temperature_2m_mean (°C)</th>\n",
       "      <th>apparent_temperature_max (°C)</th>\n",
       "      <th>apparent_temperature_min (°C)</th>\n",
       "      <th>apparent_temperature_mean (°C)</th>\n",
       "      <th>precipitation_sum (mm)</th>\n",
       "      <th>rain_sum (mm)</th>\n",
       "      <th>precipitation_hours (h)</th>\n",
       "      <th>...</th>\n",
       "      <th>windgusts_10m_max (km/h)</th>\n",
       "      <th>winddirection_10m_dominant (°)</th>\n",
       "      <th>et0_fao_evapotranspiration (mm)</th>\n",
       "      <th>latitude</th>\n",
       "      <th>longitude</th>\n",
       "      <th>elevation</th>\n",
       "      <th>river_discharge</th>\n",
       "      <th>intensity_rain</th>\n",
       "      <th>intensity_flood</th>\n",
       "      <th>intensity_drought</th>\n",
       "    </tr>\n",
       "    <tr>\n",
       "      <th>date_time</th>\n",
       "      <th></th>\n",
       "      <th></th>\n",
       "      <th></th>\n",
       "      <th></th>\n",
       "      <th></th>\n",
       "      <th></th>\n",
       "      <th></th>\n",
       "      <th></th>\n",
       "      <th></th>\n",
       "      <th></th>\n",
       "      <th></th>\n",
       "      <th></th>\n",
       "      <th></th>\n",
       "      <th></th>\n",
       "      <th></th>\n",
       "      <th></th>\n",
       "      <th></th>\n",
       "      <th></th>\n",
       "      <th></th>\n",
       "      <th></th>\n",
       "      <th></th>\n",
       "    </tr>\n",
       "  </thead>\n",
       "  <tbody>\n",
       "    <tr>\n",
       "      <th>2009-01-01</th>\n",
       "      <td>2.0</td>\n",
       "      <td>33.2</td>\n",
       "      <td>21.9</td>\n",
       "      <td>27.2</td>\n",
       "      <td>34.6</td>\n",
       "      <td>25.7</td>\n",
       "      <td>29.8</td>\n",
       "      <td>0.0</td>\n",
       "      <td>0.0</td>\n",
       "      <td>0.0</td>\n",
       "      <td>...</td>\n",
       "      <td>29.2</td>\n",
       "      <td>122.0</td>\n",
       "      <td>4.80</td>\n",
       "      <td>7.5</td>\n",
       "      <td>1.100006</td>\n",
       "      <td>326.0</td>\n",
       "      <td>0.0</td>\n",
       "      <td>0</td>\n",
       "      <td>0</td>\n",
       "      <td>0</td>\n",
       "    </tr>\n",
       "    <tr>\n",
       "      <th>2009-01-02</th>\n",
       "      <td>51.0</td>\n",
       "      <td>32.3</td>\n",
       "      <td>23.3</td>\n",
       "      <td>27.1</td>\n",
       "      <td>33.9</td>\n",
       "      <td>28.2</td>\n",
       "      <td>30.5</td>\n",
       "      <td>0.1</td>\n",
       "      <td>0.1</td>\n",
       "      <td>1.0</td>\n",
       "      <td>...</td>\n",
       "      <td>24.5</td>\n",
       "      <td>163.0</td>\n",
       "      <td>3.99</td>\n",
       "      <td>7.5</td>\n",
       "      <td>1.100006</td>\n",
       "      <td>326.0</td>\n",
       "      <td>0.0</td>\n",
       "      <td>0</td>\n",
       "      <td>0</td>\n",
       "      <td>0</td>\n",
       "    </tr>\n",
       "    <tr>\n",
       "      <th>2009-01-03</th>\n",
       "      <td>51.0</td>\n",
       "      <td>32.5</td>\n",
       "      <td>22.7</td>\n",
       "      <td>27.1</td>\n",
       "      <td>35.0</td>\n",
       "      <td>27.1</td>\n",
       "      <td>30.5</td>\n",
       "      <td>0.2</td>\n",
       "      <td>0.2</td>\n",
       "      <td>2.0</td>\n",
       "      <td>...</td>\n",
       "      <td>21.2</td>\n",
       "      <td>173.0</td>\n",
       "      <td>3.77</td>\n",
       "      <td>7.5</td>\n",
       "      <td>1.100006</td>\n",
       "      <td>326.0</td>\n",
       "      <td>0.0</td>\n",
       "      <td>0</td>\n",
       "      <td>0</td>\n",
       "      <td>0</td>\n",
       "    </tr>\n",
       "    <tr>\n",
       "      <th>2009-01-04</th>\n",
       "      <td>1.0</td>\n",
       "      <td>33.4</td>\n",
       "      <td>22.2</td>\n",
       "      <td>27.5</td>\n",
       "      <td>35.0</td>\n",
       "      <td>25.9</td>\n",
       "      <td>30.0</td>\n",
       "      <td>0.0</td>\n",
       "      <td>0.0</td>\n",
       "      <td>0.0</td>\n",
       "      <td>...</td>\n",
       "      <td>24.1</td>\n",
       "      <td>155.0</td>\n",
       "      <td>4.51</td>\n",
       "      <td>7.5</td>\n",
       "      <td>1.100006</td>\n",
       "      <td>326.0</td>\n",
       "      <td>0.0</td>\n",
       "      <td>0</td>\n",
       "      <td>0</td>\n",
       "      <td>0</td>\n",
       "    </tr>\n",
       "    <tr>\n",
       "      <th>2009-01-05</th>\n",
       "      <td>2.0</td>\n",
       "      <td>34.2</td>\n",
       "      <td>22.2</td>\n",
       "      <td>27.8</td>\n",
       "      <td>36.1</td>\n",
       "      <td>26.0</td>\n",
       "      <td>30.4</td>\n",
       "      <td>0.0</td>\n",
       "      <td>0.0</td>\n",
       "      <td>0.0</td>\n",
       "      <td>...</td>\n",
       "      <td>20.2</td>\n",
       "      <td>219.0</td>\n",
       "      <td>4.48</td>\n",
       "      <td>7.5</td>\n",
       "      <td>1.100006</td>\n",
       "      <td>326.0</td>\n",
       "      <td>0.0</td>\n",
       "      <td>0</td>\n",
       "      <td>0</td>\n",
       "      <td>0</td>\n",
       "    </tr>\n",
       "  </tbody>\n",
       "</table>\n",
       "<p>5 rows × 21 columns</p>\n",
       "</div>"
      ],
      "text/plain": [
       "            weathercode (wmo code)  temperature_2m_max (°C)  \\\n",
       "date_time                                                     \n",
       "2009-01-01                     2.0                     33.2   \n",
       "2009-01-02                    51.0                     32.3   \n",
       "2009-01-03                    51.0                     32.5   \n",
       "2009-01-04                     1.0                     33.4   \n",
       "2009-01-05                     2.0                     34.2   \n",
       "\n",
       "            temperature_2m_min (°C)  temperature_2m_mean (°C)  \\\n",
       "date_time                                                       \n",
       "2009-01-01                     21.9                      27.2   \n",
       "2009-01-02                     23.3                      27.1   \n",
       "2009-01-03                     22.7                      27.1   \n",
       "2009-01-04                     22.2                      27.5   \n",
       "2009-01-05                     22.2                      27.8   \n",
       "\n",
       "            apparent_temperature_max (°C)  apparent_temperature_min (°C)  \\\n",
       "date_time                                                                  \n",
       "2009-01-01                           34.6                           25.7   \n",
       "2009-01-02                           33.9                           28.2   \n",
       "2009-01-03                           35.0                           27.1   \n",
       "2009-01-04                           35.0                           25.9   \n",
       "2009-01-05                           36.1                           26.0   \n",
       "\n",
       "            apparent_temperature_mean (°C)  precipitation_sum (mm)  \\\n",
       "date_time                                                            \n",
       "2009-01-01                            29.8                     0.0   \n",
       "2009-01-02                            30.5                     0.1   \n",
       "2009-01-03                            30.5                     0.2   \n",
       "2009-01-04                            30.0                     0.0   \n",
       "2009-01-05                            30.4                     0.0   \n",
       "\n",
       "            rain_sum (mm)  precipitation_hours (h)  ...  \\\n",
       "date_time                                           ...   \n",
       "2009-01-01            0.0                      0.0  ...   \n",
       "2009-01-02            0.1                      1.0  ...   \n",
       "2009-01-03            0.2                      2.0  ...   \n",
       "2009-01-04            0.0                      0.0  ...   \n",
       "2009-01-05            0.0                      0.0  ...   \n",
       "\n",
       "            windgusts_10m_max (km/h)  winddirection_10m_dominant (°)  \\\n",
       "date_time                                                              \n",
       "2009-01-01                      29.2                           122.0   \n",
       "2009-01-02                      24.5                           163.0   \n",
       "2009-01-03                      21.2                           173.0   \n",
       "2009-01-04                      24.1                           155.0   \n",
       "2009-01-05                      20.2                           219.0   \n",
       "\n",
       "            et0_fao_evapotranspiration (mm)  latitude  longitude  elevation  \\\n",
       "date_time                                                                     \n",
       "2009-01-01                             4.80       7.5   1.100006      326.0   \n",
       "2009-01-02                             3.99       7.5   1.100006      326.0   \n",
       "2009-01-03                             3.77       7.5   1.100006      326.0   \n",
       "2009-01-04                             4.51       7.5   1.100006      326.0   \n",
       "2009-01-05                             4.48       7.5   1.100006      326.0   \n",
       "\n",
       "            river_discharge  intensity_rain  intensity_flood  \\\n",
       "date_time                                                      \n",
       "2009-01-01              0.0               0                0   \n",
       "2009-01-02              0.0               0                0   \n",
       "2009-01-03              0.0               0                0   \n",
       "2009-01-04              0.0               0                0   \n",
       "2009-01-05              0.0               0                0   \n",
       "\n",
       "            intensity_drought  \n",
       "date_time                      \n",
       "2009-01-01                  0  \n",
       "2009-01-02                  0  \n",
       "2009-01-03                  0  \n",
       "2009-01-04                  0  \n",
       "2009-01-05                  0  \n",
       "\n",
       "[5 rows x 21 columns]"
      ]
     },
     "execution_count": 12,
     "metadata": {},
     "output_type": "execute_result"
    }
   ],
   "source": [
    "data.head()"
   ]
  },
  {
   "cell_type": "code",
   "execution_count": 13,
   "id": "eaeb13de-fc34-4b84-a8c5-ba6049cf2c2e",
   "metadata": {},
   "outputs": [
    {
     "name": "stdout",
     "output_type": "stream",
     "text": [
      "<class 'pandas.core.frame.DataFrame'>\n",
      "Index: 5337 entries, 2009-01-01 to 2023-08-12\n",
      "Data columns (total 21 columns):\n",
      " #   Column                           Non-Null Count  Dtype  \n",
      "---  ------                           --------------  -----  \n",
      " 0   weathercode (wmo code)           5335 non-null   float64\n",
      " 1   temperature_2m_max (°C)          5335 non-null   float64\n",
      " 2   temperature_2m_min (°C)          5335 non-null   float64\n",
      " 3   temperature_2m_mean (°C)         5335 non-null   float64\n",
      " 4   apparent_temperature_max (°C)    5335 non-null   float64\n",
      " 5   apparent_temperature_min (°C)    5335 non-null   float64\n",
      " 6   apparent_temperature_mean (°C)   5335 non-null   float64\n",
      " 7   precipitation_sum (mm)           5335 non-null   float64\n",
      " 8   rain_sum (mm)                    5335 non-null   float64\n",
      " 9   precipitation_hours (h)          5337 non-null   float64\n",
      " 10  windspeed_10m_max (km/h)         5335 non-null   float64\n",
      " 11  windgusts_10m_max (km/h)         5335 non-null   float64\n",
      " 12  winddirection_10m_dominant (°)   5335 non-null   float64\n",
      " 13  et0_fao_evapotranspiration (mm)  5335 non-null   float64\n",
      " 14  latitude                         5337 non-null   float64\n",
      " 15  longitude                        5337 non-null   float64\n",
      " 16  elevation                        5337 non-null   float64\n",
      " 17  river_discharge                  5337 non-null   float64\n",
      " 18  intensity_rain                   5337 non-null   int64  \n",
      " 19  intensity_flood                  5337 non-null   int64  \n",
      " 20  intensity_drought                5337 non-null   int64  \n",
      "dtypes: float64(18), int64(3)\n",
      "memory usage: 917.3+ KB\n"
     ]
    }
   ],
   "source": [
    "data.info()"
   ]
  },
  {
   "cell_type": "code",
   "execution_count": 14,
   "id": "c5b4c06c-5602-4eb8-ac88-8b1bf3f1ce61",
   "metadata": {},
   "outputs": [
    {
     "data": {
      "text/plain": [
       "weathercode (wmo code)             2\n",
       "temperature_2m_max (°C)            2\n",
       "temperature_2m_min (°C)            2\n",
       "temperature_2m_mean (°C)           2\n",
       "apparent_temperature_max (°C)      2\n",
       "apparent_temperature_min (°C)      2\n",
       "apparent_temperature_mean (°C)     2\n",
       "precipitation_sum (mm)             2\n",
       "rain_sum (mm)                      2\n",
       "precipitation_hours (h)            0\n",
       "windspeed_10m_max (km/h)           2\n",
       "windgusts_10m_max (km/h)           2\n",
       "winddirection_10m_dominant (°)     2\n",
       "et0_fao_evapotranspiration (mm)    2\n",
       "latitude                           0\n",
       "longitude                          0\n",
       "elevation                          0\n",
       "river_discharge                    0\n",
       "intensity_rain                     0\n",
       "intensity_flood                    0\n",
       "intensity_drought                  0\n",
       "dtype: int64"
      ]
     },
     "execution_count": 14,
     "metadata": {},
     "output_type": "execute_result"
    }
   ],
   "source": [
    "data.isnull().sum()"
   ]
  },
  {
   "cell_type": "code",
   "execution_count": 22,
   "id": "a01db9a4-5676-48d9-8933-8ddb7f420116",
   "metadata": {},
   "outputs": [],
   "source": [
    "data = data.fillna(method='ffill')"
   ]
  },
  {
   "cell_type": "code",
   "execution_count": 23,
   "id": "fddab640-3f3d-41e4-8d77-40b09851daef",
   "metadata": {},
   "outputs": [
    {
     "data": {
      "text/plain": [
       "weathercode (wmo code)             0\n",
       "temperature_2m_max (°C)            0\n",
       "temperature_2m_min (°C)            0\n",
       "temperature_2m_mean (°C)           0\n",
       "apparent_temperature_max (°C)      0\n",
       "apparent_temperature_min (°C)      0\n",
       "apparent_temperature_mean (°C)     0\n",
       "precipitation_sum (mm)             0\n",
       "rain_sum (mm)                      0\n",
       "precipitation_hours (h)            0\n",
       "windspeed_10m_max (km/h)           0\n",
       "windgusts_10m_max (km/h)           0\n",
       "winddirection_10m_dominant (°)     0\n",
       "et0_fao_evapotranspiration (mm)    0\n",
       "latitude                           0\n",
       "longitude                          0\n",
       "elevation                          0\n",
       "river_discharge                    0\n",
       "intensity_rain                     0\n",
       "intensity_flood                    0\n",
       "intensity_drought                  0\n",
       "dtype: int64"
      ]
     },
     "execution_count": 23,
     "metadata": {},
     "output_type": "execute_result"
    }
   ],
   "source": [
    "data.isnull().sum()"
   ]
  },
  {
   "cell_type": "code",
   "execution_count": 29,
   "id": "3436d48f-a8fe-4788-9af2-6bf04e556ced",
   "metadata": {},
   "outputs": [
    {
     "data": {
      "image/png": "[encoded data removed]",
      "text/plain": [
       "<Figure size 1300x600 with 1 Axes>"
      ]
     },
     "metadata": {},
     "output_type": "display_data"
    }
   ],
   "source": [
    "fig, ax = plt.subplots(figsize=(13,6))\n",
    "\n",
    "ax.plot(data['rain_sum (mm)'])\n",
    "ax.set_xlabel('Date')\n",
    "ax.set_ylabel('Rain')\n",
    "\n",
    "fig.autofmt_xdate()\n",
    "plt.tight_layout()"
   ]
  },
  {
   "cell_type": "code",
   "execution_count": 30,
   "id": "0e151cb1-fc5b-4132-b208-6c321b022b53",
   "metadata": {},
   "outputs": [],
   "source": [
    "data.to_csv(\"atakapame_preprocessed.csv\")"
   ]
  },
  {
   "cell_type": "code",
   "execution_count": null,
   "id": "0bcc00f5-8e00-4901-8dd4-55c438e565f0",
   "metadata": {},
   "outputs": [],
   "source": []
  }
 ],
 "metadata": {
  "kernelspec": {
   "display_name": "Python 3 (ipykernel)",
   "language": "python",
   "name": "python3"
  },
  "language_info": {
   "codemirror_mode": {
    "name": "ipython",
    "version": 3
   },
   "file_extension": ".py",
   "mimetype": "text/x-python",
   "name": "python",
   "nbconvert_exporter": "python",
   "pygments_lexer": "ipython3",
   "version": "3.9.13"
  }
 },
 "nbformat": 4,
 "nbformat_minor": 5
}
