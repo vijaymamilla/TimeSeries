{
 "cells": [
  {
   "cell_type": "code",
   "execution_count": 25,
   "id": "c6575d9d-8959-4260-8a72-9c40bbf334fd",
   "metadata": {},
   "outputs": [],
   "source": [
    "import pandas as pd\n",
    "import numpy as np"
   ]
  },
  {
   "cell_type": "code",
   "execution_count": 2,
   "id": "3bd17e66-f24a-4ba6-b154-e48d78b4fad6",
   "metadata": {},
   "outputs": [],
   "source": [
    "df = pd.read_csv('drought.csv')"
   ]
  },
  {
   "cell_type": "code",
   "execution_count": 6,
   "id": "2cebcd96-8163-419c-9ff2-dd1603049c70",
   "metadata": {},
   "outputs": [
    {
     "data": {
      "text/plain": [
       "weathercode (wmo code)             22\n",
       "temperature_2m_max (°C)            22\n",
       "temperature_2m_min (°C)            22\n",
       "temperature_2m_mean (°C)           22\n",
       "apparent_temperature_max (°C)      22\n",
       "apparent_temperature_min (°C)      22\n",
       "apparent_temperature_mean (°C)     22\n",
       "precipitation_sum (mm)             22\n",
       "rain_sum (mm)                      22\n",
       "precipitation_hours (h)             0\n",
       "windspeed_10m_max (km/h)           22\n",
       "windgusts_10m_max (km/h)           22\n",
       "winddirection_10m_dominant (°)     22\n",
       "et0_fao_evapotranspiration (mm)    22\n",
       "latitude                            0\n",
       "longitude                           0\n",
       "elevation                           0\n",
       "river_discharge                     0\n",
       "city                                0\n",
       "intensity_drought                   0\n",
       "date_time                           0\n",
       "dtype: int64"
      ]
     },
     "execution_count": 6,
     "metadata": {},
     "output_type": "execute_result"
    }
   ],
   "source": [
    "df.isna().sum()"
   ]
  },
  {
   "cell_type": "code",
   "execution_count": 7,
   "id": "dd5ef30c-010f-40b1-9f6a-e385a42c4c6b",
   "metadata": {},
   "outputs": [
    {
     "name": "stdout",
     "output_type": "stream",
     "text": [
      "<class 'pandas.core.frame.DataFrame'>\n",
      "RangeIndex: 58707 entries, 0 to 58706\n",
      "Data columns (total 21 columns):\n",
      " #   Column                           Non-Null Count  Dtype  \n",
      "---  ------                           --------------  -----  \n",
      " 0   weathercode (wmo code)           58685 non-null  float64\n",
      " 1   temperature_2m_max (°C)          58685 non-null  float64\n",
      " 2   temperature_2m_min (°C)          58685 non-null  float64\n",
      " 3   temperature_2m_mean (°C)         58685 non-null  float64\n",
      " 4   apparent_temperature_max (°C)    58685 non-null  float64\n",
      " 5   apparent_temperature_min (°C)    58685 non-null  float64\n",
      " 6   apparent_temperature_mean (°C)   58685 non-null  float64\n",
      " 7   precipitation_sum (mm)           58685 non-null  float64\n",
      " 8   rain_sum (mm)                    58685 non-null  float64\n",
      " 9   precipitation_hours (h)          58707 non-null  float64\n",
      " 10  windspeed_10m_max (km/h)         58685 non-null  float64\n",
      " 11  windgusts_10m_max (km/h)         58685 non-null  float64\n",
      " 12  winddirection_10m_dominant (°)   58685 non-null  float64\n",
      " 13  et0_fao_evapotranspiration (mm)  58685 non-null  float64\n",
      " 14  latitude                         58707 non-null  float64\n",
      " 15  longitude                        58707 non-null  float64\n",
      " 16  elevation                        58707 non-null  float64\n",
      " 17  river_discharge                  58707 non-null  float64\n",
      " 18  city                             58707 non-null  object \n",
      " 19  intensity_drought                58707 non-null  int64  \n",
      " 20  date_time                        58707 non-null  object \n",
      "dtypes: float64(18), int64(1), object(2)\n",
      "memory usage: 9.4+ MB\n"
     ]
    }
   ],
   "source": [
    "df.info()"
   ]
  },
  {
   "cell_type": "code",
   "execution_count": 8,
   "id": "15fb5e5d-44fb-445b-b535-855108b20170",
   "metadata": {},
   "outputs": [],
   "source": [
    "df.drop(['intensity_drought'],axis=1,inplace=True)"
   ]
  },
  {
   "cell_type": "code",
   "execution_count": 9,
   "id": "d36fe0d5-13fb-464d-974b-81a3d0513ba4",
   "metadata": {},
   "outputs": [
    {
     "name": "stdout",
     "output_type": "stream",
     "text": [
      "<class 'pandas.core.frame.DataFrame'>\n",
      "RangeIndex: 58707 entries, 0 to 58706\n",
      "Data columns (total 20 columns):\n",
      " #   Column                           Non-Null Count  Dtype  \n",
      "---  ------                           --------------  -----  \n",
      " 0   weathercode (wmo code)           58685 non-null  float64\n",
      " 1   temperature_2m_max (°C)          58685 non-null  float64\n",
      " 2   temperature_2m_min (°C)          58685 non-null  float64\n",
      " 3   temperature_2m_mean (°C)         58685 non-null  float64\n",
      " 4   apparent_temperature_max (°C)    58685 non-null  float64\n",
      " 5   apparent_temperature_min (°C)    58685 non-null  float64\n",
      " 6   apparent_temperature_mean (°C)   58685 non-null  float64\n",
      " 7   precipitation_sum (mm)           58685 non-null  float64\n",
      " 8   rain_sum (mm)                    58685 non-null  float64\n",
      " 9   precipitation_hours (h)          58707 non-null  float64\n",
      " 10  windspeed_10m_max (km/h)         58685 non-null  float64\n",
      " 11  windgusts_10m_max (km/h)         58685 non-null  float64\n",
      " 12  winddirection_10m_dominant (°)   58685 non-null  float64\n",
      " 13  et0_fao_evapotranspiration (mm)  58685 non-null  float64\n",
      " 14  latitude                         58707 non-null  float64\n",
      " 15  longitude                        58707 non-null  float64\n",
      " 16  elevation                        58707 non-null  float64\n",
      " 17  river_discharge                  58707 non-null  float64\n",
      " 18  city                             58707 non-null  object \n",
      " 19  date_time                        58707 non-null  object \n",
      "dtypes: float64(18), object(2)\n",
      "memory usage: 9.0+ MB\n"
     ]
    }
   ],
   "source": [
    "df.info()"
   ]
  },
  {
   "cell_type": "code",
   "execution_count": 10,
   "id": "e2c128f5-c8d0-482c-bb5c-c88986add2c8",
   "metadata": {},
   "outputs": [],
   "source": [
    "df.to_csv('weather_data.csv',index=False)"
   ]
  },
  {
   "cell_type": "code",
   "execution_count": 19,
   "id": "aee06431-8712-4964-9f2c-c4a100e8f22e",
   "metadata": {},
   "outputs": [],
   "source": [
    "df_w_drought = pd.read_csv('drought.csv')"
   ]
  },
  {
   "cell_type": "code",
   "execution_count": 20,
   "id": "d4f23858-b36b-4c82-af07-12cd32808876",
   "metadata": {},
   "outputs": [
    {
     "name": "stdout",
     "output_type": "stream",
     "text": [
      "<class 'pandas.core.frame.DataFrame'>\n",
      "RangeIndex: 58707 entries, 0 to 58706\n",
      "Data columns (total 21 columns):\n",
      " #   Column                           Non-Null Count  Dtype  \n",
      "---  ------                           --------------  -----  \n",
      " 0   weathercode (wmo code)           58685 non-null  float64\n",
      " 1   temperature_2m_max (°C)          58685 non-null  float64\n",
      " 2   temperature_2m_min (°C)          58685 non-null  float64\n",
      " 3   temperature_2m_mean (°C)         58685 non-null  float64\n",
      " 4   apparent_temperature_max (°C)    58685 non-null  float64\n",
      " 5   apparent_temperature_min (°C)    58685 non-null  float64\n",
      " 6   apparent_temperature_mean (°C)   58685 non-null  float64\n",
      " 7   precipitation_sum (mm)           58685 non-null  float64\n",
      " 8   rain_sum (mm)                    58685 non-null  float64\n",
      " 9   precipitation_hours (h)          58707 non-null  float64\n",
      " 10  windspeed_10m_max (km/h)         58685 non-null  float64\n",
      " 11  windgusts_10m_max (km/h)         58685 non-null  float64\n",
      " 12  winddirection_10m_dominant (°)   58685 non-null  float64\n",
      " 13  et0_fao_evapotranspiration (mm)  58685 non-null  float64\n",
      " 14  latitude                         58707 non-null  float64\n",
      " 15  longitude                        58707 non-null  float64\n",
      " 16  elevation                        58707 non-null  float64\n",
      " 17  river_discharge                  58707 non-null  float64\n",
      " 18  city                             58707 non-null  object \n",
      " 19  intensity_drought                58707 non-null  int64  \n",
      " 20  date_time                        58707 non-null  object \n",
      "dtypes: float64(18), int64(1), object(2)\n",
      "memory usage: 9.4+ MB\n"
     ]
    }
   ],
   "source": [
    "df_w_drought.info()"
   ]
  },
  {
   "cell_type": "code",
   "execution_count": 21,
   "id": "f56c1d81-444b-4458-8931-8284846b22da",
   "metadata": {},
   "outputs": [],
   "source": [
    "drought_columns = ['date_time','city','intensity_drought']"
   ]
  },
  {
   "cell_type": "code",
   "execution_count": 22,
   "id": "e99a0d4b-bccd-43e1-9f86-618b493a8c80",
   "metadata": {},
   "outputs": [],
   "source": [
    "df_drought = df_w_drought[drought_columns].copy()"
   ]
  },
  {
   "cell_type": "code",
   "execution_count": 16,
   "id": "3a4aefe4-b60c-4e3c-b444-ed9e2c25a813",
   "metadata": {},
   "outputs": [
    {
     "name": "stdout",
     "output_type": "stream",
     "text": [
      "<class 'pandas.core.frame.DataFrame'>\n",
      "RangeIndex: 58707 entries, 0 to 58706\n",
      "Data columns (total 3 columns):\n",
      " #   Column             Non-Null Count  Dtype \n",
      "---  ------             --------------  ----- \n",
      " 0   date_time          58707 non-null  object\n",
      " 1   city               58707 non-null  object\n",
      " 2   intensity_drought  58707 non-null  int64 \n",
      "dtypes: int64(1), object(2)\n",
      "memory usage: 1.3+ MB\n"
     ]
    }
   ],
   "source": [
    "df3.info()"
   ]
  },
  {
   "cell_type": "code",
   "execution_count": 23,
   "id": "f7f02bb6-ecdd-4b91-ad59-4069d5597244",
   "metadata": {},
   "outputs": [],
   "source": [
    "df_drought.to_csv('twitter_drought.csv',index=False)"
   ]
  },
  {
   "cell_type": "code",
   "execution_count": 27,
   "id": "d7d21e49-35b2-48d9-997d-317d3cd0efc3",
   "metadata": {},
   "outputs": [],
   "source": [
    "df_w_flood = pd.read_csv('flood.csv')"
   ]
  },
  {
   "cell_type": "code",
   "execution_count": 28,
   "id": "f807e928-6646-47d9-91dd-d99d10ccc6ac",
   "metadata": {},
   "outputs": [
    {
     "name": "stdout",
     "output_type": "stream",
     "text": [
      "<class 'pandas.core.frame.DataFrame'>\n",
      "RangeIndex: 58707 entries, 0 to 58706\n",
      "Data columns (total 21 columns):\n",
      " #   Column                           Non-Null Count  Dtype  \n",
      "---  ------                           --------------  -----  \n",
      " 0   weathercode (wmo code)           58685 non-null  float64\n",
      " 1   temperature_2m_max (°C)          58685 non-null  float64\n",
      " 2   temperature_2m_min (°C)          58685 non-null  float64\n",
      " 3   temperature_2m_mean (°C)         58685 non-null  float64\n",
      " 4   apparent_temperature_max (°C)    58685 non-null  float64\n",
      " 5   apparent_temperature_min (°C)    58685 non-null  float64\n",
      " 6   apparent_temperature_mean (°C)   58685 non-null  float64\n",
      " 7   precipitation_sum (mm)           58685 non-null  float64\n",
      " 8   rain_sum (mm)                    58685 non-null  float64\n",
      " 9   precipitation_hours (h)          58707 non-null  float64\n",
      " 10  windspeed_10m_max (km/h)         58685 non-null  float64\n",
      " 11  windgusts_10m_max (km/h)         58685 non-null  float64\n",
      " 12  winddirection_10m_dominant (°)   58685 non-null  float64\n",
      " 13  et0_fao_evapotranspiration (mm)  58685 non-null  float64\n",
      " 14  latitude                         58707 non-null  float64\n",
      " 15  longitude                        58707 non-null  float64\n",
      " 16  elevation                        58707 non-null  float64\n",
      " 17  river_discharge                  58707 non-null  float64\n",
      " 18  city                             58707 non-null  object \n",
      " 19  intensity_flood                  58707 non-null  int64  \n",
      " 20  date_time                        58707 non-null  object \n",
      "dtypes: float64(18), int64(1), object(2)\n",
      "memory usage: 9.4+ MB\n"
     ]
    }
   ],
   "source": [
    "df_w_flood.info()"
   ]
  },
  {
   "cell_type": "code",
   "execution_count": 31,
   "id": "c07d8d3e-2bb7-464b-ad9d-3fc3fe74b793",
   "metadata": {},
   "outputs": [],
   "source": [
    "flood_columns=['date_time','city','intensity_flood']"
   ]
  },
  {
   "cell_type": "code",
   "execution_count": 32,
   "id": "dedc663e-d89e-437a-91b4-c319aa448993",
   "metadata": {},
   "outputs": [],
   "source": [
    "df_flood = df_w_flood[flood_columns].copy()"
   ]
  },
  {
   "cell_type": "code",
   "execution_count": 33,
   "id": "a514dbc9-f8a9-4d45-b170-9ea4d86a5275",
   "metadata": {},
   "outputs": [
    {
     "name": "stdout",
     "output_type": "stream",
     "text": [
      "<class 'pandas.core.frame.DataFrame'>\n",
      "RangeIndex: 58707 entries, 0 to 58706\n",
      "Data columns (total 3 columns):\n",
      " #   Column           Non-Null Count  Dtype \n",
      "---  ------           --------------  ----- \n",
      " 0   date_time        58707 non-null  object\n",
      " 1   city             58707 non-null  object\n",
      " 2   intensity_flood  58707 non-null  int64 \n",
      "dtypes: int64(1), object(2)\n",
      "memory usage: 1.3+ MB\n"
     ]
    }
   ],
   "source": [
    "df_flood.info()"
   ]
  },
  {
   "cell_type": "code",
   "execution_count": 34,
   "id": "2a948343-07de-44e8-a001-561395d49723",
   "metadata": {},
   "outputs": [],
   "source": [
    "df_flood.to_csv('twitter_flood.csv',index=False)"
   ]
  },
  {
   "cell_type": "code",
   "execution_count": 35,
   "id": "8200c90d-c745-4ba9-ac3c-69c807006241",
   "metadata": {},
   "outputs": [],
   "source": [
    "df_w_rain = pd.read_csv('rain.csv')"
   ]
  },
  {
   "cell_type": "code",
   "execution_count": 36,
   "id": "f2eb74a2-82a7-4f70-8720-8cdbea4cc631",
   "metadata": {},
   "outputs": [
    {
     "name": "stdout",
     "output_type": "stream",
     "text": [
      "<class 'pandas.core.frame.DataFrame'>\n",
      "RangeIndex: 58707 entries, 0 to 58706\n",
      "Data columns (total 21 columns):\n",
      " #   Column                           Non-Null Count  Dtype  \n",
      "---  ------                           --------------  -----  \n",
      " 0   weathercode (wmo code)           58685 non-null  float64\n",
      " 1   temperature_2m_max (°C)          58685 non-null  float64\n",
      " 2   temperature_2m_min (°C)          58685 non-null  float64\n",
      " 3   temperature_2m_mean (°C)         58685 non-null  float64\n",
      " 4   apparent_temperature_max (°C)    58685 non-null  float64\n",
      " 5   apparent_temperature_min (°C)    58685 non-null  float64\n",
      " 6   apparent_temperature_mean (°C)   58685 non-null  float64\n",
      " 7   precipitation_sum (mm)           58685 non-null  float64\n",
      " 8   rain_sum (mm)                    58685 non-null  float64\n",
      " 9   precipitation_hours (h)          58707 non-null  float64\n",
      " 10  windspeed_10m_max (km/h)         58685 non-null  float64\n",
      " 11  windgusts_10m_max (km/h)         58685 non-null  float64\n",
      " 12  winddirection_10m_dominant (°)   58685 non-null  float64\n",
      " 13  et0_fao_evapotranspiration (mm)  58685 non-null  float64\n",
      " 14  latitude                         58707 non-null  float64\n",
      " 15  longitude                        58707 non-null  float64\n",
      " 16  elevation                        58707 non-null  float64\n",
      " 17  river_discharge                  58707 non-null  float64\n",
      " 18  city                             58707 non-null  object \n",
      " 19  intensity_rain                   58707 non-null  int64  \n",
      " 20  date_time                        58707 non-null  object \n",
      "dtypes: float64(18), int64(1), object(2)\n",
      "memory usage: 9.4+ MB\n"
     ]
    }
   ],
   "source": [
    "df_w_rain.info()"
   ]
  },
  {
   "cell_type": "code",
   "execution_count": 37,
   "id": "2dfb1468-7caa-453f-b4d2-511237e13b5a",
   "metadata": {},
   "outputs": [],
   "source": [
    "rain_columns=['date_time','city','intensity_rain']"
   ]
  },
  {
   "cell_type": "code",
   "execution_count": 38,
   "id": "57670724-2e2f-46da-80ed-f47a39cc842a",
   "metadata": {},
   "outputs": [],
   "source": [
    "df_rain = df_w_rain[rain_columns].copy()"
   ]
  },
  {
   "cell_type": "code",
   "execution_count": 39,
   "id": "9179f5c4-be0a-403e-889b-bc53ba116792",
   "metadata": {},
   "outputs": [
    {
     "name": "stdout",
     "output_type": "stream",
     "text": [
      "<class 'pandas.core.frame.DataFrame'>\n",
      "RangeIndex: 58707 entries, 0 to 58706\n",
      "Data columns (total 3 columns):\n",
      " #   Column          Non-Null Count  Dtype \n",
      "---  ------          --------------  ----- \n",
      " 0   date_time       58707 non-null  object\n",
      " 1   city            58707 non-null  object\n",
      " 2   intensity_rain  58707 non-null  int64 \n",
      "dtypes: int64(1), object(2)\n",
      "memory usage: 1.3+ MB\n"
     ]
    }
   ],
   "source": [
    "df_rain.info()"
   ]
  },
  {
   "cell_type": "code",
   "execution_count": 40,
   "id": "a36a1ca4-7183-4e88-b68c-aece58009aab",
   "metadata": {},
   "outputs": [],
   "source": [
    "df_rain.to_csv('twitter_rain.csv',index=False)"
   ]
  },
  {
   "cell_type": "code",
   "execution_count": null,
   "id": "49bd10d5-c916-4ac9-a3f8-19d4a21f24f3",
   "metadata": {},
   "outputs": [],
   "source": []
  }
 ],
 "metadata": {
  "kernelspec": {
   "display_name": "Python 3 (ipykernel)",
   "language": "python",
   "name": "python3"
  },
  "language_info": {
   "codemirror_mode": {
    "name": "ipython",
    "version": 3
   },
   "file_extension": ".py",
   "mimetype": "text/x-python",
   "name": "python",
   "nbconvert_exporter": "python",
   "pygments_lexer": "ipython3",
   "version": "3.9.13"
  }
 },
 "nbformat": 4,
 "nbformat_minor": 5
}
